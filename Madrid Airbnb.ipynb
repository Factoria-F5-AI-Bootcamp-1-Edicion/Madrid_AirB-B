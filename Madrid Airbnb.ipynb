{
 "cells": [
  {
   "cell_type": "markdown",
   "id": "4d198cc0-82e7-44ae-a109-6399348b8d6e",
   "metadata": {},
   "source": [
    "# **MADRID AIRBNB**"
   ]
  },
  {
   "cell_type": "markdown",
   "id": "c2b6a6f3",
   "metadata": {},
   "source": [
    "## 1. Importacion de librerias"
   ]
  },
  {
   "cell_type": "code",
   "execution_count": 1,
   "id": "700bae63",
   "metadata": {},
   "outputs": [],
   "source": [
    "#Librerias de analisis de datos\n",
    "import numpy as np\n",
    "import pandas as pd\n",
    "import matplotlib.pyplot as plt\n",
    "import seaborn as sns\n",
    "import plotly.express as px"
   ]
  },
  {
   "cell_type": "markdown",
   "id": "870768da",
   "metadata": {},
   "source": [
    "## 2. Exploracion basica de los datos\n",
    "\n",
    "Estas son las variables que contiene nuestra dataset:\n",
    "\n",
    "+ **ID:** Numero de indentificador del hospedaje\n",
    "+ **Name:** Nombre del hospedaje\n",
    "+ **Host_id:** Numero de indentificador del propietario\n",
    "+ **Host_name:** Nombre del propietario\n",
    "+ **Neigbourhood_group:** Distrito\n",
    "+ **Neighbourhood:** Barrio\n",
    "+ **Latitud:** Latitud \n",
    "+ **Longitude:** Longitud\n",
    "+ **Room_type:** Tipo de Hospedaje\n",
    "+ **Price:** Precio\n",
    "+ **Minimun_nights:** Minimo de noches\n",
    "+ **Number_of_reviews:** Número de reseñas\n",
    "+ **Last_review:** Ultima reseñas\n",
    "+ **Reviews_per_month:** Reseñas por mes\n",
    "+ **Calculated_host_listings_count:** Cantidad de inmuebles por propietario\n",
    "+ **Availability_365:** Disponibilidad anual"
   ]
  },
  {
   "cell_type": "code",
   "execution_count": 2,
   "id": "620e6328",
   "metadata": {},
   "outputs": [],
   "source": [
    "# Buenas practicas\n",
    "\n",
    "path_to_data = \"./madrid_airbnb.csv\"\n",
    "df = pd.read_csv(path_to_data)"
   ]
  },
  {
   "cell_type": "code",
   "execution_count": 3,
   "id": "8f4e15cd",
   "metadata": {},
   "outputs": [
    {
     "data": {
      "text/plain": [
       "(19618, 16)"
      ]
     },
     "execution_count": 3,
     "metadata": {},
     "output_type": "execute_result"
    }
   ],
   "source": [
    "#Cantidad de entradas y columnas del dataset\n",
    "df.shape"
   ]
  },
  {
   "cell_type": "code",
   "execution_count": 4,
   "id": "5f39e996",
   "metadata": {},
   "outputs": [
    {
     "data": {
      "text/html": [
       "<div>\n",
       "<style scoped>\n",
       "    .dataframe tbody tr th:only-of-type {\n",
       "        vertical-align: middle;\n",
       "    }\n",
       "\n",
       "    .dataframe tbody tr th {\n",
       "        vertical-align: top;\n",
       "    }\n",
       "\n",
       "    .dataframe thead th {\n",
       "        text-align: right;\n",
       "    }\n",
       "</style>\n",
       "<table border=\"1\" class=\"dataframe\">\n",
       "  <thead>\n",
       "    <tr style=\"text-align: right;\">\n",
       "      <th></th>\n",
       "      <th>id</th>\n",
       "      <th>name</th>\n",
       "      <th>host_id</th>\n",
       "      <th>host_name</th>\n",
       "      <th>neighbourhood_group</th>\n",
       "      <th>neighbourhood</th>\n",
       "      <th>latitude</th>\n",
       "      <th>longitude</th>\n",
       "      <th>room_type</th>\n",
       "      <th>price</th>\n",
       "      <th>minimum_nights</th>\n",
       "      <th>number_of_reviews</th>\n",
       "      <th>last_review</th>\n",
       "      <th>reviews_per_month</th>\n",
       "      <th>calculated_host_listings_count</th>\n",
       "      <th>availability_365</th>\n",
       "    </tr>\n",
       "  </thead>\n",
       "  <tbody>\n",
       "    <tr>\n",
       "      <th>0</th>\n",
       "      <td>6369</td>\n",
       "      <td>Rooftop terrace room ,  ensuite bathroom</td>\n",
       "      <td>13660</td>\n",
       "      <td>Simon</td>\n",
       "      <td>Chamartín</td>\n",
       "      <td>Hispanoamérica</td>\n",
       "      <td>40.45724</td>\n",
       "      <td>-3.67688</td>\n",
       "      <td>Private room</td>\n",
       "      <td>60</td>\n",
       "      <td>1</td>\n",
       "      <td>78</td>\n",
       "      <td>2020-09-20</td>\n",
       "      <td>0.58</td>\n",
       "      <td>1</td>\n",
       "      <td>180</td>\n",
       "    </tr>\n",
       "    <tr>\n",
       "      <th>1</th>\n",
       "      <td>21853</td>\n",
       "      <td>Bright and airy room</td>\n",
       "      <td>83531</td>\n",
       "      <td>Abdel</td>\n",
       "      <td>Latina</td>\n",
       "      <td>Cármenes</td>\n",
       "      <td>40.40381</td>\n",
       "      <td>-3.74130</td>\n",
       "      <td>Private room</td>\n",
       "      <td>31</td>\n",
       "      <td>4</td>\n",
       "      <td>33</td>\n",
       "      <td>2018-07-15</td>\n",
       "      <td>0.42</td>\n",
       "      <td>2</td>\n",
       "      <td>364</td>\n",
       "    </tr>\n",
       "    <tr>\n",
       "      <th>2</th>\n",
       "      <td>23001</td>\n",
       "      <td>Apartmento Arganzuela- Madrid Rio</td>\n",
       "      <td>82175</td>\n",
       "      <td>Jesus</td>\n",
       "      <td>Arganzuela</td>\n",
       "      <td>Legazpi</td>\n",
       "      <td>40.38840</td>\n",
       "      <td>-3.69511</td>\n",
       "      <td>Entire home/apt</td>\n",
       "      <td>50</td>\n",
       "      <td>15</td>\n",
       "      <td>0</td>\n",
       "      <td>NaN</td>\n",
       "      <td>NaN</td>\n",
       "      <td>7</td>\n",
       "      <td>1</td>\n",
       "    </tr>\n",
       "    <tr>\n",
       "      <th>3</th>\n",
       "      <td>24805</td>\n",
       "      <td>Gran Via Studio Madrid</td>\n",
       "      <td>346366726</td>\n",
       "      <td>A</td>\n",
       "      <td>Centro</td>\n",
       "      <td>Universidad</td>\n",
       "      <td>40.42183</td>\n",
       "      <td>-3.70529</td>\n",
       "      <td>Entire home/apt</td>\n",
       "      <td>92</td>\n",
       "      <td>5</td>\n",
       "      <td>10</td>\n",
       "      <td>2020-03-01</td>\n",
       "      <td>0.13</td>\n",
       "      <td>1</td>\n",
       "      <td>72</td>\n",
       "    </tr>\n",
       "    <tr>\n",
       "      <th>4</th>\n",
       "      <td>26825</td>\n",
       "      <td>Single Room whith private Bathroom</td>\n",
       "      <td>114340</td>\n",
       "      <td>Agustina</td>\n",
       "      <td>Arganzuela</td>\n",
       "      <td>Legazpi</td>\n",
       "      <td>40.38975</td>\n",
       "      <td>-3.69018</td>\n",
       "      <td>Private room</td>\n",
       "      <td>26</td>\n",
       "      <td>2</td>\n",
       "      <td>149</td>\n",
       "      <td>2020-03-12</td>\n",
       "      <td>1.12</td>\n",
       "      <td>1</td>\n",
       "      <td>365</td>\n",
       "    </tr>\n",
       "  </tbody>\n",
       "</table>\n",
       "</div>"
      ],
      "text/plain": [
       "      id                                      name    host_id host_name  \\\n",
       "0   6369  Rooftop terrace room ,  ensuite bathroom      13660     Simon   \n",
       "1  21853                      Bright and airy room      83531     Abdel   \n",
       "2  23001         Apartmento Arganzuela- Madrid Rio      82175     Jesus   \n",
       "3  24805                    Gran Via Studio Madrid  346366726         A   \n",
       "4  26825        Single Room whith private Bathroom     114340  Agustina   \n",
       "\n",
       "  neighbourhood_group   neighbourhood  latitude  longitude        room_type  \\\n",
       "0           Chamartín  Hispanoamérica  40.45724   -3.67688     Private room   \n",
       "1              Latina        Cármenes  40.40381   -3.74130     Private room   \n",
       "2          Arganzuela         Legazpi  40.38840   -3.69511  Entire home/apt   \n",
       "3              Centro     Universidad  40.42183   -3.70529  Entire home/apt   \n",
       "4          Arganzuela         Legazpi  40.38975   -3.69018     Private room   \n",
       "\n",
       "   price  minimum_nights  number_of_reviews last_review  reviews_per_month  \\\n",
       "0     60               1                 78  2020-09-20               0.58   \n",
       "1     31               4                 33  2018-07-15               0.42   \n",
       "2     50              15                  0         NaN                NaN   \n",
       "3     92               5                 10  2020-03-01               0.13   \n",
       "4     26               2                149  2020-03-12               1.12   \n",
       "\n",
       "   calculated_host_listings_count  availability_365  \n",
       "0                               1               180  \n",
       "1                               2               364  \n",
       "2                               7                 1  \n",
       "3                               1                72  \n",
       "4                               1               365  "
      ]
     },
     "execution_count": 4,
     "metadata": {},
     "output_type": "execute_result"
    }
   ],
   "source": [
    "# Ver las primeras cinco entradas\n",
    "df.head(5)"
   ]
  },
  {
   "cell_type": "code",
   "execution_count": 5,
   "id": "774d637b",
   "metadata": {
    "scrolled": true
   },
   "outputs": [
    {
     "data": {
      "text/html": [
       "<div>\n",
       "<style scoped>\n",
       "    .dataframe tbody tr th:only-of-type {\n",
       "        vertical-align: middle;\n",
       "    }\n",
       "\n",
       "    .dataframe tbody tr th {\n",
       "        vertical-align: top;\n",
       "    }\n",
       "\n",
       "    .dataframe thead th {\n",
       "        text-align: right;\n",
       "    }\n",
       "</style>\n",
       "<table border=\"1\" class=\"dataframe\">\n",
       "  <thead>\n",
       "    <tr style=\"text-align: right;\">\n",
       "      <th></th>\n",
       "      <th>id</th>\n",
       "      <th>name</th>\n",
       "      <th>host_id</th>\n",
       "      <th>host_name</th>\n",
       "      <th>neighbourhood</th>\n",
       "      <th>latitude</th>\n",
       "      <th>longitude</th>\n",
       "      <th>room_type</th>\n",
       "      <th>price</th>\n",
       "      <th>minimum_nights</th>\n",
       "      <th>number_of_reviews</th>\n",
       "      <th>last_review</th>\n",
       "      <th>reviews_per_month</th>\n",
       "      <th>calculated_host_listings_count</th>\n",
       "      <th>availability_365</th>\n",
       "    </tr>\n",
       "    <tr>\n",
       "      <th>neighbourhood_group</th>\n",
       "      <th></th>\n",
       "      <th></th>\n",
       "      <th></th>\n",
       "      <th></th>\n",
       "      <th></th>\n",
       "      <th></th>\n",
       "      <th></th>\n",
       "      <th></th>\n",
       "      <th></th>\n",
       "      <th></th>\n",
       "      <th></th>\n",
       "      <th></th>\n",
       "      <th></th>\n",
       "      <th></th>\n",
       "      <th></th>\n",
       "    </tr>\n",
       "  </thead>\n",
       "  <tbody>\n",
       "    <tr>\n",
       "      <th>Arganzuela</th>\n",
       "      <td>1104</td>\n",
       "      <td>1104</td>\n",
       "      <td>1104</td>\n",
       "      <td>1069</td>\n",
       "      <td>1104</td>\n",
       "      <td>1104</td>\n",
       "      <td>1104</td>\n",
       "      <td>1104</td>\n",
       "      <td>1104</td>\n",
       "      <td>1104</td>\n",
       "      <td>1104</td>\n",
       "      <td>805</td>\n",
       "      <td>805</td>\n",
       "      <td>1104</td>\n",
       "      <td>1104</td>\n",
       "    </tr>\n",
       "    <tr>\n",
       "      <th>Barajas</th>\n",
       "      <td>172</td>\n",
       "      <td>172</td>\n",
       "      <td>172</td>\n",
       "      <td>166</td>\n",
       "      <td>172</td>\n",
       "      <td>172</td>\n",
       "      <td>172</td>\n",
       "      <td>172</td>\n",
       "      <td>172</td>\n",
       "      <td>172</td>\n",
       "      <td>172</td>\n",
       "      <td>114</td>\n",
       "      <td>114</td>\n",
       "      <td>172</td>\n",
       "      <td>172</td>\n",
       "    </tr>\n",
       "    <tr>\n",
       "      <th>Carabanchel</th>\n",
       "      <td>708</td>\n",
       "      <td>708</td>\n",
       "      <td>708</td>\n",
       "      <td>699</td>\n",
       "      <td>708</td>\n",
       "      <td>708</td>\n",
       "      <td>708</td>\n",
       "      <td>708</td>\n",
       "      <td>708</td>\n",
       "      <td>708</td>\n",
       "      <td>708</td>\n",
       "      <td>445</td>\n",
       "      <td>445</td>\n",
       "      <td>708</td>\n",
       "      <td>708</td>\n",
       "    </tr>\n",
       "    <tr>\n",
       "      <th>Centro</th>\n",
       "      <td>8649</td>\n",
       "      <td>8647</td>\n",
       "      <td>8649</td>\n",
       "      <td>8424</td>\n",
       "      <td>8649</td>\n",
       "      <td>8649</td>\n",
       "      <td>8649</td>\n",
       "      <td>8649</td>\n",
       "      <td>8649</td>\n",
       "      <td>8649</td>\n",
       "      <td>8649</td>\n",
       "      <td>6781</td>\n",
       "      <td>6781</td>\n",
       "      <td>8649</td>\n",
       "      <td>8649</td>\n",
       "    </tr>\n",
       "    <tr>\n",
       "      <th>Chamartín</th>\n",
       "      <td>580</td>\n",
       "      <td>580</td>\n",
       "      <td>580</td>\n",
       "      <td>565</td>\n",
       "      <td>580</td>\n",
       "      <td>580</td>\n",
       "      <td>580</td>\n",
       "      <td>580</td>\n",
       "      <td>580</td>\n",
       "      <td>580</td>\n",
       "      <td>580</td>\n",
       "      <td>390</td>\n",
       "      <td>390</td>\n",
       "      <td>580</td>\n",
       "      <td>580</td>\n",
       "    </tr>\n",
       "    <tr>\n",
       "      <th>Chamberí</th>\n",
       "      <td>1252</td>\n",
       "      <td>1252</td>\n",
       "      <td>1252</td>\n",
       "      <td>1226</td>\n",
       "      <td>1252</td>\n",
       "      <td>1252</td>\n",
       "      <td>1252</td>\n",
       "      <td>1252</td>\n",
       "      <td>1252</td>\n",
       "      <td>1252</td>\n",
       "      <td>1252</td>\n",
       "      <td>753</td>\n",
       "      <td>753</td>\n",
       "      <td>1252</td>\n",
       "      <td>1252</td>\n",
       "    </tr>\n",
       "    <tr>\n",
       "      <th>Ciudad Lineal</th>\n",
       "      <td>649</td>\n",
       "      <td>649</td>\n",
       "      <td>649</td>\n",
       "      <td>634</td>\n",
       "      <td>649</td>\n",
       "      <td>649</td>\n",
       "      <td>649</td>\n",
       "      <td>649</td>\n",
       "      <td>649</td>\n",
       "      <td>649</td>\n",
       "      <td>649</td>\n",
       "      <td>424</td>\n",
       "      <td>424</td>\n",
       "      <td>649</td>\n",
       "      <td>649</td>\n",
       "    </tr>\n",
       "    <tr>\n",
       "      <th>Fuencarral - El Pardo</th>\n",
       "      <td>315</td>\n",
       "      <td>315</td>\n",
       "      <td>315</td>\n",
       "      <td>308</td>\n",
       "      <td>315</td>\n",
       "      <td>315</td>\n",
       "      <td>315</td>\n",
       "      <td>315</td>\n",
       "      <td>315</td>\n",
       "      <td>315</td>\n",
       "      <td>315</td>\n",
       "      <td>200</td>\n",
       "      <td>200</td>\n",
       "      <td>315</td>\n",
       "      <td>315</td>\n",
       "    </tr>\n",
       "    <tr>\n",
       "      <th>Hortaleza</th>\n",
       "      <td>364</td>\n",
       "      <td>364</td>\n",
       "      <td>364</td>\n",
       "      <td>352</td>\n",
       "      <td>364</td>\n",
       "      <td>364</td>\n",
       "      <td>364</td>\n",
       "      <td>364</td>\n",
       "      <td>364</td>\n",
       "      <td>364</td>\n",
       "      <td>364</td>\n",
       "      <td>254</td>\n",
       "      <td>254</td>\n",
       "      <td>364</td>\n",
       "      <td>364</td>\n",
       "    </tr>\n",
       "    <tr>\n",
       "      <th>Latina</th>\n",
       "      <td>608</td>\n",
       "      <td>608</td>\n",
       "      <td>608</td>\n",
       "      <td>588</td>\n",
       "      <td>608</td>\n",
       "      <td>608</td>\n",
       "      <td>608</td>\n",
       "      <td>608</td>\n",
       "      <td>608</td>\n",
       "      <td>608</td>\n",
       "      <td>608</td>\n",
       "      <td>376</td>\n",
       "      <td>376</td>\n",
       "      <td>608</td>\n",
       "      <td>608</td>\n",
       "    </tr>\n",
       "    <tr>\n",
       "      <th>Moncloa - Aravaca</th>\n",
       "      <td>554</td>\n",
       "      <td>554</td>\n",
       "      <td>554</td>\n",
       "      <td>541</td>\n",
       "      <td>554</td>\n",
       "      <td>554</td>\n",
       "      <td>554</td>\n",
       "      <td>554</td>\n",
       "      <td>554</td>\n",
       "      <td>554</td>\n",
       "      <td>554</td>\n",
       "      <td>384</td>\n",
       "      <td>384</td>\n",
       "      <td>554</td>\n",
       "      <td>554</td>\n",
       "    </tr>\n",
       "    <tr>\n",
       "      <th>Moratalaz</th>\n",
       "      <td>118</td>\n",
       "      <td>118</td>\n",
       "      <td>118</td>\n",
       "      <td>110</td>\n",
       "      <td>118</td>\n",
       "      <td>118</td>\n",
       "      <td>118</td>\n",
       "      <td>118</td>\n",
       "      <td>118</td>\n",
       "      <td>118</td>\n",
       "      <td>118</td>\n",
       "      <td>68</td>\n",
       "      <td>68</td>\n",
       "      <td>118</td>\n",
       "      <td>118</td>\n",
       "    </tr>\n",
       "    <tr>\n",
       "      <th>Puente de Vallecas</th>\n",
       "      <td>617</td>\n",
       "      <td>617</td>\n",
       "      <td>617</td>\n",
       "      <td>600</td>\n",
       "      <td>617</td>\n",
       "      <td>617</td>\n",
       "      <td>617</td>\n",
       "      <td>617</td>\n",
       "      <td>617</td>\n",
       "      <td>617</td>\n",
       "      <td>617</td>\n",
       "      <td>423</td>\n",
       "      <td>423</td>\n",
       "      <td>617</td>\n",
       "      <td>617</td>\n",
       "    </tr>\n",
       "    <tr>\n",
       "      <th>Retiro</th>\n",
       "      <td>664</td>\n",
       "      <td>664</td>\n",
       "      <td>664</td>\n",
       "      <td>648</td>\n",
       "      <td>664</td>\n",
       "      <td>664</td>\n",
       "      <td>664</td>\n",
       "      <td>664</td>\n",
       "      <td>664</td>\n",
       "      <td>664</td>\n",
       "      <td>664</td>\n",
       "      <td>492</td>\n",
       "      <td>492</td>\n",
       "      <td>664</td>\n",
       "      <td>664</td>\n",
       "    </tr>\n",
       "    <tr>\n",
       "      <th>Salamanca</th>\n",
       "      <td>1324</td>\n",
       "      <td>1324</td>\n",
       "      <td>1324</td>\n",
       "      <td>1285</td>\n",
       "      <td>1324</td>\n",
       "      <td>1324</td>\n",
       "      <td>1324</td>\n",
       "      <td>1324</td>\n",
       "      <td>1324</td>\n",
       "      <td>1324</td>\n",
       "      <td>1324</td>\n",
       "      <td>883</td>\n",
       "      <td>883</td>\n",
       "      <td>1324</td>\n",
       "      <td>1324</td>\n",
       "    </tr>\n",
       "    <tr>\n",
       "      <th>San Blas - Canillejas</th>\n",
       "      <td>497</td>\n",
       "      <td>496</td>\n",
       "      <td>497</td>\n",
       "      <td>483</td>\n",
       "      <td>497</td>\n",
       "      <td>497</td>\n",
       "      <td>497</td>\n",
       "      <td>497</td>\n",
       "      <td>497</td>\n",
       "      <td>497</td>\n",
       "      <td>497</td>\n",
       "      <td>238</td>\n",
       "      <td>238</td>\n",
       "      <td>497</td>\n",
       "      <td>497</td>\n",
       "    </tr>\n",
       "    <tr>\n",
       "      <th>Tetuán</th>\n",
       "      <td>816</td>\n",
       "      <td>816</td>\n",
       "      <td>816</td>\n",
       "      <td>783</td>\n",
       "      <td>816</td>\n",
       "      <td>816</td>\n",
       "      <td>816</td>\n",
       "      <td>816</td>\n",
       "      <td>816</td>\n",
       "      <td>816</td>\n",
       "      <td>816</td>\n",
       "      <td>549</td>\n",
       "      <td>549</td>\n",
       "      <td>816</td>\n",
       "      <td>816</td>\n",
       "    </tr>\n",
       "    <tr>\n",
       "      <th>Usera</th>\n",
       "      <td>280</td>\n",
       "      <td>280</td>\n",
       "      <td>280</td>\n",
       "      <td>273</td>\n",
       "      <td>280</td>\n",
       "      <td>280</td>\n",
       "      <td>280</td>\n",
       "      <td>280</td>\n",
       "      <td>280</td>\n",
       "      <td>280</td>\n",
       "      <td>280</td>\n",
       "      <td>191</td>\n",
       "      <td>191</td>\n",
       "      <td>280</td>\n",
       "      <td>280</td>\n",
       "    </tr>\n",
       "    <tr>\n",
       "      <th>Vicálvaro</th>\n",
       "      <td>72</td>\n",
       "      <td>72</td>\n",
       "      <td>72</td>\n",
       "      <td>68</td>\n",
       "      <td>72</td>\n",
       "      <td>72</td>\n",
       "      <td>72</td>\n",
       "      <td>72</td>\n",
       "      <td>72</td>\n",
       "      <td>72</td>\n",
       "      <td>72</td>\n",
       "      <td>38</td>\n",
       "      <td>38</td>\n",
       "      <td>72</td>\n",
       "      <td>72</td>\n",
       "    </tr>\n",
       "    <tr>\n",
       "      <th>Villa de Vallecas</th>\n",
       "      <td>98</td>\n",
       "      <td>98</td>\n",
       "      <td>98</td>\n",
       "      <td>96</td>\n",
       "      <td>98</td>\n",
       "      <td>98</td>\n",
       "      <td>98</td>\n",
       "      <td>98</td>\n",
       "      <td>98</td>\n",
       "      <td>98</td>\n",
       "      <td>98</td>\n",
       "      <td>68</td>\n",
       "      <td>68</td>\n",
       "      <td>98</td>\n",
       "      <td>98</td>\n",
       "    </tr>\n",
       "    <tr>\n",
       "      <th>Villaverde</th>\n",
       "      <td>177</td>\n",
       "      <td>177</td>\n",
       "      <td>177</td>\n",
       "      <td>173</td>\n",
       "      <td>177</td>\n",
       "      <td>177</td>\n",
       "      <td>177</td>\n",
       "      <td>177</td>\n",
       "      <td>177</td>\n",
       "      <td>177</td>\n",
       "      <td>177</td>\n",
       "      <td>105</td>\n",
       "      <td>105</td>\n",
       "      <td>177</td>\n",
       "      <td>177</td>\n",
       "    </tr>\n",
       "  </tbody>\n",
       "</table>\n",
       "</div>"
      ],
      "text/plain": [
       "                         id  name  host_id  host_name  neighbourhood  \\\n",
       "neighbourhood_group                                                    \n",
       "Arganzuela             1104  1104     1104       1069           1104   \n",
       "Barajas                 172   172      172        166            172   \n",
       "Carabanchel             708   708      708        699            708   \n",
       "Centro                 8649  8647     8649       8424           8649   \n",
       "Chamartín               580   580      580        565            580   \n",
       "Chamberí               1252  1252     1252       1226           1252   \n",
       "Ciudad Lineal           649   649      649        634            649   \n",
       "Fuencarral - El Pardo   315   315      315        308            315   \n",
       "Hortaleza               364   364      364        352            364   \n",
       "Latina                  608   608      608        588            608   \n",
       "Moncloa - Aravaca       554   554      554        541            554   \n",
       "Moratalaz               118   118      118        110            118   \n",
       "Puente de Vallecas      617   617      617        600            617   \n",
       "Retiro                  664   664      664        648            664   \n",
       "Salamanca              1324  1324     1324       1285           1324   \n",
       "San Blas - Canillejas   497   496      497        483            497   \n",
       "Tetuán                  816   816      816        783            816   \n",
       "Usera                   280   280      280        273            280   \n",
       "Vicálvaro                72    72       72         68             72   \n",
       "Villa de Vallecas        98    98       98         96             98   \n",
       "Villaverde              177   177      177        173            177   \n",
       "\n",
       "                       latitude  longitude  room_type  price  minimum_nights  \\\n",
       "neighbourhood_group                                                            \n",
       "Arganzuela                 1104       1104       1104   1104            1104   \n",
       "Barajas                     172        172        172    172             172   \n",
       "Carabanchel                 708        708        708    708             708   \n",
       "Centro                     8649       8649       8649   8649            8649   \n",
       "Chamartín                   580        580        580    580             580   \n",
       "Chamberí                   1252       1252       1252   1252            1252   \n",
       "Ciudad Lineal               649        649        649    649             649   \n",
       "Fuencarral - El Pardo       315        315        315    315             315   \n",
       "Hortaleza                   364        364        364    364             364   \n",
       "Latina                      608        608        608    608             608   \n",
       "Moncloa - Aravaca           554        554        554    554             554   \n",
       "Moratalaz                   118        118        118    118             118   \n",
       "Puente de Vallecas          617        617        617    617             617   \n",
       "Retiro                      664        664        664    664             664   \n",
       "Salamanca                  1324       1324       1324   1324            1324   \n",
       "San Blas - Canillejas       497        497        497    497             497   \n",
       "Tetuán                      816        816        816    816             816   \n",
       "Usera                       280        280        280    280             280   \n",
       "Vicálvaro                    72         72         72     72              72   \n",
       "Villa de Vallecas            98         98         98     98              98   \n",
       "Villaverde                  177        177        177    177             177   \n",
       "\n",
       "                       number_of_reviews  last_review  reviews_per_month  \\\n",
       "neighbourhood_group                                                        \n",
       "Arganzuela                          1104          805                805   \n",
       "Barajas                              172          114                114   \n",
       "Carabanchel                          708          445                445   \n",
       "Centro                              8649         6781               6781   \n",
       "Chamartín                            580          390                390   \n",
       "Chamberí                            1252          753                753   \n",
       "Ciudad Lineal                        649          424                424   \n",
       "Fuencarral - El Pardo                315          200                200   \n",
       "Hortaleza                            364          254                254   \n",
       "Latina                               608          376                376   \n",
       "Moncloa - Aravaca                    554          384                384   \n",
       "Moratalaz                            118           68                 68   \n",
       "Puente de Vallecas                   617          423                423   \n",
       "Retiro                               664          492                492   \n",
       "Salamanca                           1324          883                883   \n",
       "San Blas - Canillejas                497          238                238   \n",
       "Tetuán                               816          549                549   \n",
       "Usera                                280          191                191   \n",
       "Vicálvaro                             72           38                 38   \n",
       "Villa de Vallecas                     98           68                 68   \n",
       "Villaverde                           177          105                105   \n",
       "\n",
       "                       calculated_host_listings_count  availability_365  \n",
       "neighbourhood_group                                                      \n",
       "Arganzuela                                       1104              1104  \n",
       "Barajas                                           172               172  \n",
       "Carabanchel                                       708               708  \n",
       "Centro                                           8649              8649  \n",
       "Chamartín                                         580               580  \n",
       "Chamberí                                         1252              1252  \n",
       "Ciudad Lineal                                     649               649  \n",
       "Fuencarral - El Pardo                             315               315  \n",
       "Hortaleza                                         364               364  \n",
       "Latina                                            608               608  \n",
       "Moncloa - Aravaca                                 554               554  \n",
       "Moratalaz                                         118               118  \n",
       "Puente de Vallecas                                617               617  \n",
       "Retiro                                            664               664  \n",
       "Salamanca                                        1324              1324  \n",
       "San Blas - Canillejas                             497               497  \n",
       "Tetuán                                            816               816  \n",
       "Usera                                             280               280  \n",
       "Vicálvaro                                          72                72  \n",
       "Villa de Vallecas                                  98                98  \n",
       "Villaverde                                        177               177  "
      ]
     },
     "execution_count": 5,
     "metadata": {},
     "output_type": "execute_result"
    }
   ],
   "source": [
    "# Agrupamos los distritos para poder observar cuantas entradas hay.\n",
    "df_group1 = df.groupby(\"neighbourhood_group\").count()\n",
    "df_group1"
   ]
  },
  {
   "cell_type": "markdown",
   "id": "36c781cb",
   "metadata": {},
   "source": [
    "Observamos que hay 21 distritos, el centro tiene mayor cantidad de alquileres disponibles con 8649 y el menor viene a ser Vicalvaro con 72 anuncios de alquiler."
   ]
  },
  {
   "cell_type": "code",
   "execution_count": 6,
   "id": "3a174a7a",
   "metadata": {},
   "outputs": [
    {
     "data": {
      "text/plain": [
       "Centro                   8649\n",
       "Salamanca                1324\n",
       "Chamberí                 1252\n",
       "Arganzuela               1104\n",
       "Tetuán                    816\n",
       "Carabanchel               708\n",
       "Retiro                    664\n",
       "Ciudad Lineal             649\n",
       "Puente de Vallecas        617\n",
       "Latina                    608\n",
       "Chamartín                 580\n",
       "Moncloa - Aravaca         554\n",
       "San Blas - Canillejas     497\n",
       "Hortaleza                 364\n",
       "Fuencarral - El Pardo     315\n",
       "Usera                     280\n",
       "Villaverde                177\n",
       "Barajas                   172\n",
       "Moratalaz                 118\n",
       "Villa de Vallecas          98\n",
       "Vicálvaro                  72\n",
       "Name: neighbourhood_group, dtype: int64"
      ]
     },
     "execution_count": 6,
     "metadata": {},
     "output_type": "execute_result"
    }
   ],
   "source": [
    "#Vemos cuantos alquileres hay por distrito:\n",
    "\n",
    "df[\"neighbourhood_group\"].value_counts()"
   ]
  },
  {
   "cell_type": "markdown",
   "id": "d8aeca27",
   "metadata": {},
   "source": [
    "Vemos que nuestro top 3 de alquileres se encuentran en: **Centro, Salamanca y Chamberí.**"
   ]
  },
  {
   "cell_type": "code",
   "execution_count": 7,
   "id": "47db379a",
   "metadata": {},
   "outputs": [
    {
     "data": {
      "text/plain": [
       "Entire home/apt    11314\n",
       "Private room        7809\n",
       "Shared room          329\n",
       "Hotel room           166\n",
       "Name: room_type, dtype: int64"
      ]
     },
     "execution_count": 7,
     "metadata": {},
     "output_type": "execute_result"
    }
   ],
   "source": [
    "#Vemos el tipo de alojamiento:\n",
    "\n",
    "df[\"room_type\"].value_counts()"
   ]
  },
  {
   "cell_type": "markdown",
   "id": "9d9d3445",
   "metadata": {},
   "source": [
    "La categoria de Entire Home/apt representa un **57.67%** del total de los alquileres"
   ]
  },
  {
   "cell_type": "code",
   "execution_count": 8,
   "id": "a48bca00",
   "metadata": {},
   "outputs": [
    {
     "data": {
      "text/plain": [
       "377605855    163\n",
       "28038703     113\n",
       "276565844    101\n",
       "102196656    101\n",
       "32046323      92\n",
       "107141654     88\n",
       "99018982      72\n",
       "247570318     69\n",
       "28786243      67\n",
       "107335103     66\n",
       "Name: host_id, dtype: int64"
      ]
     },
     "execution_count": 8,
     "metadata": {},
     "output_type": "execute_result"
    }
   ],
   "source": [
    "#Cantidad de hospedajes por host_id:\n",
    "\n",
    "df[\"host_id\"].value_counts().head(10)"
   ]
  },
  {
   "cell_type": "markdown",
   "id": "32e91cdd",
   "metadata": {},
   "source": [
    "Hay algunos propietarios que tienen mas de 100 inmuebles en alquiler en Madrid."
   ]
  },
  {
   "cell_type": "code",
   "execution_count": 9,
   "id": "ee13ef5d",
   "metadata": {},
   "outputs": [
    {
     "data": {
      "text/html": [
       "<div>\n",
       "<style scoped>\n",
       "    .dataframe tbody tr th:only-of-type {\n",
       "        vertical-align: middle;\n",
       "    }\n",
       "\n",
       "    .dataframe tbody tr th {\n",
       "        vertical-align: top;\n",
       "    }\n",
       "\n",
       "    .dataframe thead th {\n",
       "        text-align: right;\n",
       "    }\n",
       "</style>\n",
       "<table border=\"1\" class=\"dataframe\">\n",
       "  <thead>\n",
       "    <tr style=\"text-align: right;\">\n",
       "      <th></th>\n",
       "      <th>neighbourhood_group</th>\n",
       "      <th>neighbourhood</th>\n",
       "    </tr>\n",
       "  </thead>\n",
       "  <tbody>\n",
       "    <tr>\n",
       "      <th>count</th>\n",
       "      <td>19618</td>\n",
       "      <td>19618</td>\n",
       "    </tr>\n",
       "    <tr>\n",
       "      <th>unique</th>\n",
       "      <td>21</td>\n",
       "      <td>128</td>\n",
       "    </tr>\n",
       "    <tr>\n",
       "      <th>top</th>\n",
       "      <td>Centro</td>\n",
       "      <td>Embajadores</td>\n",
       "    </tr>\n",
       "    <tr>\n",
       "      <th>freq</th>\n",
       "      <td>8649</td>\n",
       "      <td>2318</td>\n",
       "    </tr>\n",
       "  </tbody>\n",
       "</table>\n",
       "</div>"
      ],
      "text/plain": [
       "       neighbourhood_group neighbourhood\n",
       "count                19618         19618\n",
       "unique                  21           128\n",
       "top                 Centro   Embajadores\n",
       "freq                  8649          2318"
      ]
     },
     "execution_count": 9,
     "metadata": {},
     "output_type": "execute_result"
    }
   ],
   "source": [
    "#Describe cualitativo:\n",
    "df_group2 = df[[\"neighbourhood_group\", \"neighbourhood\"]]\n",
    "df_group2.describe()\n"
   ]
  },
  {
   "cell_type": "markdown",
   "id": "05543cd4",
   "metadata": {},
   "source": [
    "Comprobamos que Centro es el distrito con mas anuncios, puntualmente en el barrio **Embajadores**. "
   ]
  },
  {
   "cell_type": "code",
   "execution_count": 10,
   "id": "669ec09d",
   "metadata": {},
   "outputs": [
    {
     "name": "stdout",
     "output_type": "stream",
     "text": [
      "<class 'pandas.core.frame.DataFrame'>\n",
      "RangeIndex: 19618 entries, 0 to 19617\n",
      "Data columns (total 16 columns):\n",
      " #   Column                          Non-Null Count  Dtype  \n",
      "---  ------                          --------------  -----  \n",
      " 0   id                              19618 non-null  int64  \n",
      " 1   name                            19615 non-null  object \n",
      " 2   host_id                         19618 non-null  int64  \n",
      " 3   host_name                       19091 non-null  object \n",
      " 4   neighbourhood_group             19618 non-null  object \n",
      " 5   neighbourhood                   19618 non-null  object \n",
      " 6   latitude                        19618 non-null  float64\n",
      " 7   longitude                       19618 non-null  float64\n",
      " 8   room_type                       19618 non-null  object \n",
      " 9   price                           19618 non-null  int64  \n",
      " 10  minimum_nights                  19618 non-null  int64  \n",
      " 11  number_of_reviews               19618 non-null  int64  \n",
      " 12  last_review                     13981 non-null  object \n",
      " 13  reviews_per_month               13981 non-null  float64\n",
      " 14  calculated_host_listings_count  19618 non-null  int64  \n",
      " 15  availability_365                19618 non-null  int64  \n",
      "dtypes: float64(3), int64(7), object(6)\n",
      "memory usage: 2.4+ MB\n"
     ]
    }
   ],
   "source": [
    "#Informacion sobre el dataset\n",
    "df.info()"
   ]
  },
  {
   "cell_type": "markdown",
   "id": "19b1e3c5",
   "metadata": {},
   "source": [
    "Se han perdido unos datos en name y faltan muchos mas datos en host_name. La mayor cantidad de perdidas en las entradas esta en last_review y reviews_per_month, la cantidad de entradas perdidas es la misma en ambas columnas. En el futuro se decidira que hacer con estos datos. A continuación, se muestran los valores que faltan:"
   ]
  },
  {
   "cell_type": "code",
   "execution_count": 11,
   "id": "145d5ad1",
   "metadata": {},
   "outputs": [
    {
     "data": {
      "text/plain": [
       "id                                   0\n",
       "name                                 3\n",
       "host_id                              0\n",
       "host_name                          527\n",
       "neighbourhood_group                  0\n",
       "neighbourhood                        0\n",
       "latitude                             0\n",
       "longitude                            0\n",
       "room_type                            0\n",
       "price                                0\n",
       "minimum_nights                       0\n",
       "number_of_reviews                    0\n",
       "last_review                       5637\n",
       "reviews_per_month                 5637\n",
       "calculated_host_listings_count       0\n",
       "availability_365                     0\n",
       "dtype: int64"
      ]
     },
     "execution_count": 11,
     "metadata": {},
     "output_type": "execute_result"
    }
   ],
   "source": [
    "df.isnull().sum(axis =0)"
   ]
  },
  {
   "cell_type": "markdown",
   "id": "3744a9ab",
   "metadata": {},
   "source": [
    "Podemos ver que en name solo nos faltan tres. En host_name tenemos 527 perdidas. La mayor perdida esta en last_review y reviews_per_month donde podemos contar 5637 en ambos casos."
   ]
  },
  {
   "cell_type": "markdown",
   "id": "a9f74437",
   "metadata": {},
   "source": [
    "# 3. Limpieza de datos"
   ]
  },
  {
   "cell_type": "code",
   "execution_count": 12,
   "id": "ea92f217",
   "metadata": {
    "scrolled": true
   },
   "outputs": [
    {
     "data": {
      "text/html": [
       "<div>\n",
       "<style scoped>\n",
       "    .dataframe tbody tr th:only-of-type {\n",
       "        vertical-align: middle;\n",
       "    }\n",
       "\n",
       "    .dataframe tbody tr th {\n",
       "        vertical-align: top;\n",
       "    }\n",
       "\n",
       "    .dataframe thead th {\n",
       "        text-align: right;\n",
       "    }\n",
       "</style>\n",
       "<table border=\"1\" class=\"dataframe\">\n",
       "  <thead>\n",
       "    <tr style=\"text-align: right;\">\n",
       "      <th></th>\n",
       "      <th>id</th>\n",
       "      <th>host_id</th>\n",
       "      <th>latitude</th>\n",
       "      <th>longitude</th>\n",
       "      <th>price</th>\n",
       "      <th>minimum_nights</th>\n",
       "      <th>number_of_reviews</th>\n",
       "      <th>reviews_per_month</th>\n",
       "      <th>calculated_host_listings_count</th>\n",
       "      <th>availability_365</th>\n",
       "    </tr>\n",
       "  </thead>\n",
       "  <tbody>\n",
       "    <tr>\n",
       "      <th>count</th>\n",
       "      <td>1.961800e+04</td>\n",
       "      <td>1.961800e+04</td>\n",
       "      <td>19618.000000</td>\n",
       "      <td>19618.000000</td>\n",
       "      <td>19618.000000</td>\n",
       "      <td>19618.000000</td>\n",
       "      <td>19618.000000</td>\n",
       "      <td>13981.000000</td>\n",
       "      <td>19618.000000</td>\n",
       "      <td>19618.000000</td>\n",
       "    </tr>\n",
       "    <tr>\n",
       "      <th>mean</th>\n",
       "      <td>2.912200e+07</td>\n",
       "      <td>1.312165e+08</td>\n",
       "      <td>40.420984</td>\n",
       "      <td>-3.694040</td>\n",
       "      <td>129.271740</td>\n",
       "      <td>6.586196</td>\n",
       "      <td>31.858803</td>\n",
       "      <td>1.125958</td>\n",
       "      <td>10.229177</td>\n",
       "      <td>159.098328</td>\n",
       "    </tr>\n",
       "    <tr>\n",
       "      <th>std</th>\n",
       "      <td>1.351839e+07</td>\n",
       "      <td>1.166790e+08</td>\n",
       "      <td>0.022627</td>\n",
       "      <td>0.028671</td>\n",
       "      <td>484.143545</td>\n",
       "      <td>33.286582</td>\n",
       "      <td>63.938997</td>\n",
       "      <td>1.348235</td>\n",
       "      <td>23.546472</td>\n",
       "      <td>144.252803</td>\n",
       "    </tr>\n",
       "    <tr>\n",
       "      <th>min</th>\n",
       "      <td>6.369000e+03</td>\n",
       "      <td>7.952000e+03</td>\n",
       "      <td>40.332210</td>\n",
       "      <td>-3.863910</td>\n",
       "      <td>0.000000</td>\n",
       "      <td>1.000000</td>\n",
       "      <td>0.000000</td>\n",
       "      <td>0.010000</td>\n",
       "      <td>1.000000</td>\n",
       "      <td>0.000000</td>\n",
       "    </tr>\n",
       "    <tr>\n",
       "      <th>25%</th>\n",
       "      <td>1.903424e+07</td>\n",
       "      <td>2.765313e+07</td>\n",
       "      <td>40.409393</td>\n",
       "      <td>-3.707700</td>\n",
       "      <td>35.000000</td>\n",
       "      <td>1.000000</td>\n",
       "      <td>0.000000</td>\n",
       "      <td>0.170000</td>\n",
       "      <td>1.000000</td>\n",
       "      <td>0.000000</td>\n",
       "    </tr>\n",
       "    <tr>\n",
       "      <th>50%</th>\n",
       "      <td>3.187506e+07</td>\n",
       "      <td>9.901898e+07</td>\n",
       "      <td>40.419735</td>\n",
       "      <td>-3.701120</td>\n",
       "      <td>58.000000</td>\n",
       "      <td>2.000000</td>\n",
       "      <td>4.000000</td>\n",
       "      <td>0.590000</td>\n",
       "      <td>2.000000</td>\n",
       "      <td>126.000000</td>\n",
       "    </tr>\n",
       "    <tr>\n",
       "      <th>75%</th>\n",
       "      <td>4.090994e+07</td>\n",
       "      <td>2.256898e+08</td>\n",
       "      <td>40.430290</td>\n",
       "      <td>-3.685420</td>\n",
       "      <td>100.000000</td>\n",
       "      <td>3.000000</td>\n",
       "      <td>31.000000</td>\n",
       "      <td>1.630000</td>\n",
       "      <td>6.000000</td>\n",
       "      <td>320.000000</td>\n",
       "    </tr>\n",
       "    <tr>\n",
       "      <th>max</th>\n",
       "      <td>4.918779e+07</td>\n",
       "      <td>3.964281e+08</td>\n",
       "      <td>40.562740</td>\n",
       "      <td>-3.531900</td>\n",
       "      <td>9999.000000</td>\n",
       "      <td>1125.000000</td>\n",
       "      <td>706.000000</td>\n",
       "      <td>16.220000</td>\n",
       "      <td>163.000000</td>\n",
       "      <td>365.000000</td>\n",
       "    </tr>\n",
       "  </tbody>\n",
       "</table>\n",
       "</div>"
      ],
      "text/plain": [
       "                 id       host_id      latitude     longitude         price  \\\n",
       "count  1.961800e+04  1.961800e+04  19618.000000  19618.000000  19618.000000   \n",
       "mean   2.912200e+07  1.312165e+08     40.420984     -3.694040    129.271740   \n",
       "std    1.351839e+07  1.166790e+08      0.022627      0.028671    484.143545   \n",
       "min    6.369000e+03  7.952000e+03     40.332210     -3.863910      0.000000   \n",
       "25%    1.903424e+07  2.765313e+07     40.409393     -3.707700     35.000000   \n",
       "50%    3.187506e+07  9.901898e+07     40.419735     -3.701120     58.000000   \n",
       "75%    4.090994e+07  2.256898e+08     40.430290     -3.685420    100.000000   \n",
       "max    4.918779e+07  3.964281e+08     40.562740     -3.531900   9999.000000   \n",
       "\n",
       "       minimum_nights  number_of_reviews  reviews_per_month  \\\n",
       "count    19618.000000       19618.000000       13981.000000   \n",
       "mean         6.586196          31.858803           1.125958   \n",
       "std         33.286582          63.938997           1.348235   \n",
       "min          1.000000           0.000000           0.010000   \n",
       "25%          1.000000           0.000000           0.170000   \n",
       "50%          2.000000           4.000000           0.590000   \n",
       "75%          3.000000          31.000000           1.630000   \n",
       "max       1125.000000         706.000000          16.220000   \n",
       "\n",
       "       calculated_host_listings_count  availability_365  \n",
       "count                    19618.000000      19618.000000  \n",
       "mean                        10.229177        159.098328  \n",
       "std                         23.546472        144.252803  \n",
       "min                          1.000000          0.000000  \n",
       "25%                          1.000000          0.000000  \n",
       "50%                          2.000000        126.000000  \n",
       "75%                          6.000000        320.000000  \n",
       "max                        163.000000        365.000000  "
      ]
     },
     "execution_count": 12,
     "metadata": {},
     "output_type": "execute_result"
    }
   ],
   "source": [
    "# Creamos un anlisis estadistico basico\n",
    "df.describe()"
   ]
  },
  {
   "cell_type": "code",
   "execution_count": 13,
   "id": "072c08df",
   "metadata": {},
   "outputs": [],
   "source": [
    "#A continuacion se muestra la clasificacion de variables:\n",
    "\n",
    "categoricas = [\"name\", \"neighbourhood_group\", \"neighbourhood\", \"room_type\"]\n",
    "numericas = [\"latitude\", \"longitude\", \"price\", \"minimum_nights\", \"number_of_reviews\", \"reviews_per_month\", \"calculated_host_listings_count\", \"availability_365\"]"
   ]
  },
  {
   "cell_type": "code",
   "execution_count": 14,
   "id": "c20c5fde",
   "metadata": {
    "scrolled": true
   },
   "outputs": [
    {
     "data": {
      "text/html": [
       "<div>\n",
       "<style scoped>\n",
       "    .dataframe tbody tr th:only-of-type {\n",
       "        vertical-align: middle;\n",
       "    }\n",
       "\n",
       "    .dataframe tbody tr th {\n",
       "        vertical-align: top;\n",
       "    }\n",
       "\n",
       "    .dataframe thead th {\n",
       "        text-align: right;\n",
       "    }\n",
       "</style>\n",
       "<table border=\"1\" class=\"dataframe\">\n",
       "  <thead>\n",
       "    <tr style=\"text-align: right;\">\n",
       "      <th></th>\n",
       "      <th>latitude</th>\n",
       "      <th>longitude</th>\n",
       "      <th>price</th>\n",
       "      <th>minimum_nights</th>\n",
       "      <th>number_of_reviews</th>\n",
       "      <th>reviews_per_month</th>\n",
       "      <th>calculated_host_listings_count</th>\n",
       "      <th>availability_365</th>\n",
       "    </tr>\n",
       "  </thead>\n",
       "  <tbody>\n",
       "    <tr>\n",
       "      <th>count</th>\n",
       "      <td>19618.000000</td>\n",
       "      <td>19618.000000</td>\n",
       "      <td>19618.000000</td>\n",
       "      <td>19618.000000</td>\n",
       "      <td>19618.000000</td>\n",
       "      <td>13981.000000</td>\n",
       "      <td>19618.000000</td>\n",
       "      <td>19618.000000</td>\n",
       "    </tr>\n",
       "    <tr>\n",
       "      <th>mean</th>\n",
       "      <td>40.420984</td>\n",
       "      <td>-3.694040</td>\n",
       "      <td>129.271740</td>\n",
       "      <td>6.586196</td>\n",
       "      <td>31.858803</td>\n",
       "      <td>1.125958</td>\n",
       "      <td>10.229177</td>\n",
       "      <td>159.098328</td>\n",
       "    </tr>\n",
       "    <tr>\n",
       "      <th>std</th>\n",
       "      <td>0.022627</td>\n",
       "      <td>0.028671</td>\n",
       "      <td>484.143545</td>\n",
       "      <td>33.286582</td>\n",
       "      <td>63.938997</td>\n",
       "      <td>1.348235</td>\n",
       "      <td>23.546472</td>\n",
       "      <td>144.252803</td>\n",
       "    </tr>\n",
       "    <tr>\n",
       "      <th>min</th>\n",
       "      <td>40.332210</td>\n",
       "      <td>-3.863910</td>\n",
       "      <td>0.000000</td>\n",
       "      <td>1.000000</td>\n",
       "      <td>0.000000</td>\n",
       "      <td>0.010000</td>\n",
       "      <td>1.000000</td>\n",
       "      <td>0.000000</td>\n",
       "    </tr>\n",
       "    <tr>\n",
       "      <th>25%</th>\n",
       "      <td>40.409393</td>\n",
       "      <td>-3.707700</td>\n",
       "      <td>35.000000</td>\n",
       "      <td>1.000000</td>\n",
       "      <td>0.000000</td>\n",
       "      <td>0.170000</td>\n",
       "      <td>1.000000</td>\n",
       "      <td>0.000000</td>\n",
       "    </tr>\n",
       "    <tr>\n",
       "      <th>50%</th>\n",
       "      <td>40.419735</td>\n",
       "      <td>-3.701120</td>\n",
       "      <td>58.000000</td>\n",
       "      <td>2.000000</td>\n",
       "      <td>4.000000</td>\n",
       "      <td>0.590000</td>\n",
       "      <td>2.000000</td>\n",
       "      <td>126.000000</td>\n",
       "    </tr>\n",
       "    <tr>\n",
       "      <th>75%</th>\n",
       "      <td>40.430290</td>\n",
       "      <td>-3.685420</td>\n",
       "      <td>100.000000</td>\n",
       "      <td>3.000000</td>\n",
       "      <td>31.000000</td>\n",
       "      <td>1.630000</td>\n",
       "      <td>6.000000</td>\n",
       "      <td>320.000000</td>\n",
       "    </tr>\n",
       "    <tr>\n",
       "      <th>max</th>\n",
       "      <td>40.562740</td>\n",
       "      <td>-3.531900</td>\n",
       "      <td>9999.000000</td>\n",
       "      <td>1125.000000</td>\n",
       "      <td>706.000000</td>\n",
       "      <td>16.220000</td>\n",
       "      <td>163.000000</td>\n",
       "      <td>365.000000</td>\n",
       "    </tr>\n",
       "  </tbody>\n",
       "</table>\n",
       "</div>"
      ],
      "text/plain": [
       "           latitude     longitude         price  minimum_nights  \\\n",
       "count  19618.000000  19618.000000  19618.000000    19618.000000   \n",
       "mean      40.420984     -3.694040    129.271740        6.586196   \n",
       "std        0.022627      0.028671    484.143545       33.286582   \n",
       "min       40.332210     -3.863910      0.000000        1.000000   \n",
       "25%       40.409393     -3.707700     35.000000        1.000000   \n",
       "50%       40.419735     -3.701120     58.000000        2.000000   \n",
       "75%       40.430290     -3.685420    100.000000        3.000000   \n",
       "max       40.562740     -3.531900   9999.000000     1125.000000   \n",
       "\n",
       "       number_of_reviews  reviews_per_month  calculated_host_listings_count  \\\n",
       "count       19618.000000       13981.000000                    19618.000000   \n",
       "mean           31.858803           1.125958                       10.229177   \n",
       "std            63.938997           1.348235                       23.546472   \n",
       "min             0.000000           0.010000                        1.000000   \n",
       "25%             0.000000           0.170000                        1.000000   \n",
       "50%             4.000000           0.590000                        2.000000   \n",
       "75%            31.000000           1.630000                        6.000000   \n",
       "max           706.000000          16.220000                      163.000000   \n",
       "\n",
       "       availability_365  \n",
       "count      19618.000000  \n",
       "mean         159.098328  \n",
       "std          144.252803  \n",
       "min            0.000000  \n",
       "25%            0.000000  \n",
       "50%          126.000000  \n",
       "75%          320.000000  \n",
       "max          365.000000  "
      ]
     },
     "execution_count": 14,
     "metadata": {},
     "output_type": "execute_result"
    }
   ],
   "source": [
    "# Se muestra el analisis estadistico de las variables numericas:\n",
    "df[numericas].describe()"
   ]
  },
  {
   "cell_type": "code",
   "execution_count": 15,
   "id": "b1e6a956",
   "metadata": {},
   "outputs": [
    {
     "data": {
      "text/plain": [
       "0"
      ]
     },
     "execution_count": 15,
     "metadata": {},
     "output_type": "execute_result"
    }
   ],
   "source": [
    "#Revisando las entradas duplicadas:\n",
    "df.duplicated().sum()"
   ]
  },
  {
   "cell_type": "markdown",
   "id": "c693e7f6",
   "metadata": {},
   "source": [
    "No se encontraron duplicados en el dataset"
   ]
  },
  {
   "cell_type": "markdown",
   "id": "9d2f3ce9",
   "metadata": {},
   "source": [
    "#  4. Ingenieria de caracteristicas.\n",
    "Vamos a analizar y modificar el dataset sustituyendo y añadiendo categorias nuevas y valores en las celdas con valores nulos. \n"
   ]
  },
  {
   "cell_type": "code",
   "execution_count": 16,
   "id": "22c8506b",
   "metadata": {
    "scrolled": true
   },
   "outputs": [
    {
     "data": {
      "text/plain": [
       "id                                   0\n",
       "name                                 3\n",
       "host_id                              0\n",
       "host_name                          527\n",
       "neighbourhood_group                  0\n",
       "neighbourhood                        0\n",
       "latitude                             0\n",
       "longitude                            0\n",
       "room_type                            0\n",
       "price                                0\n",
       "minimum_nights                       0\n",
       "number_of_reviews                    0\n",
       "last_review                       5637\n",
       "reviews_per_month                 5637\n",
       "calculated_host_listings_count       0\n",
       "availability_365                     0\n",
       "dtype: int64"
      ]
     },
     "execution_count": 16,
     "metadata": {},
     "output_type": "execute_result"
    }
   ],
   "source": [
    "# Buscamos los NaN\n",
    "df.isnull().sum()"
   ]
  },
  {
   "cell_type": "code",
   "execution_count": 17,
   "id": "da8b2e16",
   "metadata": {},
   "outputs": [],
   "source": [
    "#Reemplazando los valores Nan de Name por la moda de la columna\n",
    "dfName = df[\"name\"].mode()[0]\n",
    "df[\"name\"].fillna(dfName, inplace=True)"
   ]
  },
  {
   "cell_type": "code",
   "execution_count": 18,
   "id": "813566b8",
   "metadata": {},
   "outputs": [],
   "source": [
    "#Reemplazando los valores Nan de host_name por la moda de la columna\n",
    "dfhost_name = df[\"host_name\"].mode()[0]\n",
    "df[\"host_name\"].fillna(dfhost_name, inplace=True)"
   ]
  },
  {
   "cell_type": "code",
   "execution_count": 19,
   "id": "6a8ff2e8",
   "metadata": {},
   "outputs": [],
   "source": [
    "#Reemplazando los valores Nan de last_reviews por una nueva categoria llamada \"No Reviews\"\n",
    "df[\"last_review\"].fillna(\"No Reviews\", inplace=True)"
   ]
  },
  {
   "cell_type": "code",
   "execution_count": 20,
   "id": "349f0dd8",
   "metadata": {},
   "outputs": [],
   "source": [
    "#Reemplazando los valores Nan de **reviews_per_month** por una nueva categoria 0\n",
    "df[\"reviews_per_month\"].fillna(0, inplace=True)"
   ]
  },
  {
   "cell_type": "code",
   "execution_count": 21,
   "id": "581bb381",
   "metadata": {
    "scrolled": true
   },
   "outputs": [
    {
     "data": {
      "text/plain": [
       "id                                0\n",
       "name                              0\n",
       "host_id                           0\n",
       "host_name                         0\n",
       "neighbourhood_group               0\n",
       "neighbourhood                     0\n",
       "latitude                          0\n",
       "longitude                         0\n",
       "room_type                         0\n",
       "price                             0\n",
       "minimum_nights                    0\n",
       "number_of_reviews                 0\n",
       "last_review                       0\n",
       "reviews_per_month                 0\n",
       "calculated_host_listings_count    0\n",
       "availability_365                  0\n",
       "dtype: int64"
      ]
     },
     "execution_count": 21,
     "metadata": {},
     "output_type": "execute_result"
    }
   ],
   "source": [
    "# Comprobando los cambios realizados\n",
    "df.isnull().sum()"
   ]
  },
  {
   "cell_type": "markdown",
   "id": "d61a99ff",
   "metadata": {},
   "source": [
    "## Sustitumos los valores NaN por:\n",
    "\n",
    "+ **name= 3**                   Renombrar con la moda de la variable\n",
    "+ **host_name = 527**           Renombrar con host moda de la variable\n",
    "+ **last_review =5637**         Relleno con la nueva categoria llamada \"No Reviews\"\n",
    "+ **reviews_per_month =5637**   Relleno con con 0\n"
   ]
  },
  {
   "cell_type": "code",
   "execution_count": 22,
   "id": "79954ceb",
   "metadata": {},
   "outputs": [
    {
     "data": {
      "text/html": [
       "<div>\n",
       "<style scoped>\n",
       "    .dataframe tbody tr th:only-of-type {\n",
       "        vertical-align: middle;\n",
       "    }\n",
       "\n",
       "    .dataframe tbody tr th {\n",
       "        vertical-align: top;\n",
       "    }\n",
       "\n",
       "    .dataframe thead th {\n",
       "        text-align: right;\n",
       "    }\n",
       "</style>\n",
       "<table border=\"1\" class=\"dataframe\">\n",
       "  <thead>\n",
       "    <tr style=\"text-align: right;\">\n",
       "      <th></th>\n",
       "      <th>id</th>\n",
       "      <th>host_id</th>\n",
       "      <th>latitude</th>\n",
       "      <th>longitude</th>\n",
       "      <th>price</th>\n",
       "      <th>minimum_nights</th>\n",
       "      <th>number_of_reviews</th>\n",
       "      <th>reviews_per_month</th>\n",
       "      <th>calculated_host_listings_count</th>\n",
       "      <th>availability_365</th>\n",
       "    </tr>\n",
       "  </thead>\n",
       "  <tbody>\n",
       "    <tr>\n",
       "      <th>count</th>\n",
       "      <td>1.961800e+04</td>\n",
       "      <td>1.961800e+04</td>\n",
       "      <td>19618.000000</td>\n",
       "      <td>19618.000000</td>\n",
       "      <td>19618.000000</td>\n",
       "      <td>19618.000000</td>\n",
       "      <td>19618.000000</td>\n",
       "      <td>19618.000000</td>\n",
       "      <td>19618.000000</td>\n",
       "      <td>19618.000000</td>\n",
       "    </tr>\n",
       "    <tr>\n",
       "      <th>mean</th>\n",
       "      <td>2.912200e+07</td>\n",
       "      <td>1.312165e+08</td>\n",
       "      <td>40.420984</td>\n",
       "      <td>-3.694040</td>\n",
       "      <td>129.271740</td>\n",
       "      <td>6.586196</td>\n",
       "      <td>31.858803</td>\n",
       "      <td>0.802427</td>\n",
       "      <td>10.229177</td>\n",
       "      <td>159.098328</td>\n",
       "    </tr>\n",
       "    <tr>\n",
       "      <th>std</th>\n",
       "      <td>1.351839e+07</td>\n",
       "      <td>1.166790e+08</td>\n",
       "      <td>0.022627</td>\n",
       "      <td>0.028671</td>\n",
       "      <td>484.143545</td>\n",
       "      <td>33.286582</td>\n",
       "      <td>63.938997</td>\n",
       "      <td>1.247008</td>\n",
       "      <td>23.546472</td>\n",
       "      <td>144.252803</td>\n",
       "    </tr>\n",
       "    <tr>\n",
       "      <th>min</th>\n",
       "      <td>6.369000e+03</td>\n",
       "      <td>7.952000e+03</td>\n",
       "      <td>40.332210</td>\n",
       "      <td>-3.863910</td>\n",
       "      <td>0.000000</td>\n",
       "      <td>1.000000</td>\n",
       "      <td>0.000000</td>\n",
       "      <td>0.000000</td>\n",
       "      <td>1.000000</td>\n",
       "      <td>0.000000</td>\n",
       "    </tr>\n",
       "    <tr>\n",
       "      <th>25%</th>\n",
       "      <td>1.903424e+07</td>\n",
       "      <td>2.765313e+07</td>\n",
       "      <td>40.409393</td>\n",
       "      <td>-3.707700</td>\n",
       "      <td>35.000000</td>\n",
       "      <td>1.000000</td>\n",
       "      <td>0.000000</td>\n",
       "      <td>0.000000</td>\n",
       "      <td>1.000000</td>\n",
       "      <td>0.000000</td>\n",
       "    </tr>\n",
       "    <tr>\n",
       "      <th>50%</th>\n",
       "      <td>3.187506e+07</td>\n",
       "      <td>9.901898e+07</td>\n",
       "      <td>40.419735</td>\n",
       "      <td>-3.701120</td>\n",
       "      <td>58.000000</td>\n",
       "      <td>2.000000</td>\n",
       "      <td>4.000000</td>\n",
       "      <td>0.220000</td>\n",
       "      <td>2.000000</td>\n",
       "      <td>126.000000</td>\n",
       "    </tr>\n",
       "    <tr>\n",
       "      <th>75%</th>\n",
       "      <td>4.090994e+07</td>\n",
       "      <td>2.256898e+08</td>\n",
       "      <td>40.430290</td>\n",
       "      <td>-3.685420</td>\n",
       "      <td>100.000000</td>\n",
       "      <td>3.000000</td>\n",
       "      <td>31.000000</td>\n",
       "      <td>1.070000</td>\n",
       "      <td>6.000000</td>\n",
       "      <td>320.000000</td>\n",
       "    </tr>\n",
       "    <tr>\n",
       "      <th>max</th>\n",
       "      <td>4.918779e+07</td>\n",
       "      <td>3.964281e+08</td>\n",
       "      <td>40.562740</td>\n",
       "      <td>-3.531900</td>\n",
       "      <td>9999.000000</td>\n",
       "      <td>1125.000000</td>\n",
       "      <td>706.000000</td>\n",
       "      <td>16.220000</td>\n",
       "      <td>163.000000</td>\n",
       "      <td>365.000000</td>\n",
       "    </tr>\n",
       "  </tbody>\n",
       "</table>\n",
       "</div>"
      ],
      "text/plain": [
       "                 id       host_id      latitude     longitude         price  \\\n",
       "count  1.961800e+04  1.961800e+04  19618.000000  19618.000000  19618.000000   \n",
       "mean   2.912200e+07  1.312165e+08     40.420984     -3.694040    129.271740   \n",
       "std    1.351839e+07  1.166790e+08      0.022627      0.028671    484.143545   \n",
       "min    6.369000e+03  7.952000e+03     40.332210     -3.863910      0.000000   \n",
       "25%    1.903424e+07  2.765313e+07     40.409393     -3.707700     35.000000   \n",
       "50%    3.187506e+07  9.901898e+07     40.419735     -3.701120     58.000000   \n",
       "75%    4.090994e+07  2.256898e+08     40.430290     -3.685420    100.000000   \n",
       "max    4.918779e+07  3.964281e+08     40.562740     -3.531900   9999.000000   \n",
       "\n",
       "       minimum_nights  number_of_reviews  reviews_per_month  \\\n",
       "count    19618.000000       19618.000000       19618.000000   \n",
       "mean         6.586196          31.858803           0.802427   \n",
       "std         33.286582          63.938997           1.247008   \n",
       "min          1.000000           0.000000           0.000000   \n",
       "25%          1.000000           0.000000           0.000000   \n",
       "50%          2.000000           4.000000           0.220000   \n",
       "75%          3.000000          31.000000           1.070000   \n",
       "max       1125.000000         706.000000          16.220000   \n",
       "\n",
       "       calculated_host_listings_count  availability_365  \n",
       "count                    19618.000000      19618.000000  \n",
       "mean                        10.229177        159.098328  \n",
       "std                         23.546472        144.252803  \n",
       "min                          1.000000          0.000000  \n",
       "25%                          1.000000          0.000000  \n",
       "50%                          2.000000        126.000000  \n",
       "75%                          6.000000        320.000000  \n",
       "max                        163.000000        365.000000  "
      ]
     },
     "execution_count": 22,
     "metadata": {},
     "output_type": "execute_result"
    }
   ],
   "source": [
    "#Analizando la tabla con los nuevos valores\n",
    "df.describe()"
   ]
  },
  {
   "cell_type": "code",
   "execution_count": 23,
   "id": "df331d9e",
   "metadata": {},
   "outputs": [
    {
     "data": {
      "text/html": [
       "<div>\n",
       "<style scoped>\n",
       "    .dataframe tbody tr th:only-of-type {\n",
       "        vertical-align: middle;\n",
       "    }\n",
       "\n",
       "    .dataframe tbody tr th {\n",
       "        vertical-align: top;\n",
       "    }\n",
       "\n",
       "    .dataframe thead th {\n",
       "        text-align: right;\n",
       "    }\n",
       "</style>\n",
       "<table border=\"1\" class=\"dataframe\">\n",
       "  <thead>\n",
       "    <tr style=\"text-align: right;\">\n",
       "      <th></th>\n",
       "      <th>id</th>\n",
       "      <th>host_id</th>\n",
       "      <th>latitude</th>\n",
       "      <th>longitude</th>\n",
       "      <th>price</th>\n",
       "      <th>minimum_nights</th>\n",
       "      <th>number_of_reviews</th>\n",
       "      <th>reviews_per_month</th>\n",
       "      <th>calculated_host_listings_count</th>\n",
       "      <th>availability_365</th>\n",
       "    </tr>\n",
       "  </thead>\n",
       "  <tbody>\n",
       "    <tr>\n",
       "      <th>id</th>\n",
       "      <td>1.000000</td>\n",
       "      <td>0.588140</td>\n",
       "      <td>0.007536</td>\n",
       "      <td>0.042278</td>\n",
       "      <td>-0.006972</td>\n",
       "      <td>-0.014913</td>\n",
       "      <td>-0.460090</td>\n",
       "      <td>-0.236007</td>\n",
       "      <td>0.184686</td>\n",
       "      <td>0.075797</td>\n",
       "    </tr>\n",
       "    <tr>\n",
       "      <th>host_id</th>\n",
       "      <td>0.588140</td>\n",
       "      <td>1.000000</td>\n",
       "      <td>-0.022591</td>\n",
       "      <td>0.029244</td>\n",
       "      <td>-0.011474</td>\n",
       "      <td>-0.021160</td>\n",
       "      <td>-0.267410</td>\n",
       "      <td>-0.141748</td>\n",
       "      <td>0.105835</td>\n",
       "      <td>0.079107</td>\n",
       "    </tr>\n",
       "    <tr>\n",
       "      <th>latitude</th>\n",
       "      <td>0.007536</td>\n",
       "      <td>-0.022591</td>\n",
       "      <td>1.000000</td>\n",
       "      <td>0.243802</td>\n",
       "      <td>0.006117</td>\n",
       "      <td>0.006007</td>\n",
       "      <td>-0.043504</td>\n",
       "      <td>-0.042881</td>\n",
       "      <td>0.003811</td>\n",
       "      <td>0.002114</td>\n",
       "    </tr>\n",
       "    <tr>\n",
       "      <th>longitude</th>\n",
       "      <td>0.042278</td>\n",
       "      <td>0.029244</td>\n",
       "      <td>0.243802</td>\n",
       "      <td>1.000000</td>\n",
       "      <td>0.034466</td>\n",
       "      <td>-0.021106</td>\n",
       "      <td>-0.036850</td>\n",
       "      <td>-0.030179</td>\n",
       "      <td>-0.061014</td>\n",
       "      <td>0.009485</td>\n",
       "    </tr>\n",
       "    <tr>\n",
       "      <th>price</th>\n",
       "      <td>-0.006972</td>\n",
       "      <td>-0.011474</td>\n",
       "      <td>0.006117</td>\n",
       "      <td>0.034466</td>\n",
       "      <td>1.000000</td>\n",
       "      <td>0.018500</td>\n",
       "      <td>-0.000008</td>\n",
       "      <td>-0.025062</td>\n",
       "      <td>-0.006428</td>\n",
       "      <td>-0.012957</td>\n",
       "    </tr>\n",
       "    <tr>\n",
       "      <th>minimum_nights</th>\n",
       "      <td>-0.014913</td>\n",
       "      <td>-0.021160</td>\n",
       "      <td>0.006007</td>\n",
       "      <td>-0.021106</td>\n",
       "      <td>0.018500</td>\n",
       "      <td>1.000000</td>\n",
       "      <td>-0.029326</td>\n",
       "      <td>-0.045199</td>\n",
       "      <td>-0.012900</td>\n",
       "      <td>0.044730</td>\n",
       "    </tr>\n",
       "    <tr>\n",
       "      <th>number_of_reviews</th>\n",
       "      <td>-0.460090</td>\n",
       "      <td>-0.267410</td>\n",
       "      <td>-0.043504</td>\n",
       "      <td>-0.036850</td>\n",
       "      <td>-0.000008</td>\n",
       "      <td>-0.029326</td>\n",
       "      <td>1.000000</td>\n",
       "      <td>0.842301</td>\n",
       "      <td>-0.034972</td>\n",
       "      <td>0.039562</td>\n",
       "    </tr>\n",
       "    <tr>\n",
       "      <th>reviews_per_month</th>\n",
       "      <td>-0.236007</td>\n",
       "      <td>-0.141748</td>\n",
       "      <td>-0.042881</td>\n",
       "      <td>-0.030179</td>\n",
       "      <td>-0.025062</td>\n",
       "      <td>-0.045199</td>\n",
       "      <td>0.842301</td>\n",
       "      <td>1.000000</td>\n",
       "      <td>0.004604</td>\n",
       "      <td>0.040494</td>\n",
       "    </tr>\n",
       "    <tr>\n",
       "      <th>calculated_host_listings_count</th>\n",
       "      <td>0.184686</td>\n",
       "      <td>0.105835</td>\n",
       "      <td>0.003811</td>\n",
       "      <td>-0.061014</td>\n",
       "      <td>-0.006428</td>\n",
       "      <td>-0.012900</td>\n",
       "      <td>-0.034972</td>\n",
       "      <td>0.004604</td>\n",
       "      <td>1.000000</td>\n",
       "      <td>0.101660</td>\n",
       "    </tr>\n",
       "    <tr>\n",
       "      <th>availability_365</th>\n",
       "      <td>0.075797</td>\n",
       "      <td>0.079107</td>\n",
       "      <td>0.002114</td>\n",
       "      <td>0.009485</td>\n",
       "      <td>-0.012957</td>\n",
       "      <td>0.044730</td>\n",
       "      <td>0.039562</td>\n",
       "      <td>0.040494</td>\n",
       "      <td>0.101660</td>\n",
       "      <td>1.000000</td>\n",
       "    </tr>\n",
       "  </tbody>\n",
       "</table>\n",
       "</div>"
      ],
      "text/plain": [
       "                                      id   host_id  latitude  longitude  \\\n",
       "id                              1.000000  0.588140  0.007536   0.042278   \n",
       "host_id                         0.588140  1.000000 -0.022591   0.029244   \n",
       "latitude                        0.007536 -0.022591  1.000000   0.243802   \n",
       "longitude                       0.042278  0.029244  0.243802   1.000000   \n",
       "price                          -0.006972 -0.011474  0.006117   0.034466   \n",
       "minimum_nights                 -0.014913 -0.021160  0.006007  -0.021106   \n",
       "number_of_reviews              -0.460090 -0.267410 -0.043504  -0.036850   \n",
       "reviews_per_month              -0.236007 -0.141748 -0.042881  -0.030179   \n",
       "calculated_host_listings_count  0.184686  0.105835  0.003811  -0.061014   \n",
       "availability_365                0.075797  0.079107  0.002114   0.009485   \n",
       "\n",
       "                                   price  minimum_nights  number_of_reviews  \\\n",
       "id                             -0.006972       -0.014913          -0.460090   \n",
       "host_id                        -0.011474       -0.021160          -0.267410   \n",
       "latitude                        0.006117        0.006007          -0.043504   \n",
       "longitude                       0.034466       -0.021106          -0.036850   \n",
       "price                           1.000000        0.018500          -0.000008   \n",
       "minimum_nights                  0.018500        1.000000          -0.029326   \n",
       "number_of_reviews              -0.000008       -0.029326           1.000000   \n",
       "reviews_per_month              -0.025062       -0.045199           0.842301   \n",
       "calculated_host_listings_count -0.006428       -0.012900          -0.034972   \n",
       "availability_365               -0.012957        0.044730           0.039562   \n",
       "\n",
       "                                reviews_per_month  \\\n",
       "id                                      -0.236007   \n",
       "host_id                                 -0.141748   \n",
       "latitude                                -0.042881   \n",
       "longitude                               -0.030179   \n",
       "price                                   -0.025062   \n",
       "minimum_nights                          -0.045199   \n",
       "number_of_reviews                        0.842301   \n",
       "reviews_per_month                        1.000000   \n",
       "calculated_host_listings_count           0.004604   \n",
       "availability_365                         0.040494   \n",
       "\n",
       "                                calculated_host_listings_count  \\\n",
       "id                                                    0.184686   \n",
       "host_id                                               0.105835   \n",
       "latitude                                              0.003811   \n",
       "longitude                                            -0.061014   \n",
       "price                                                -0.006428   \n",
       "minimum_nights                                       -0.012900   \n",
       "number_of_reviews                                    -0.034972   \n",
       "reviews_per_month                                     0.004604   \n",
       "calculated_host_listings_count                        1.000000   \n",
       "availability_365                                      0.101660   \n",
       "\n",
       "                                availability_365  \n",
       "id                                      0.075797  \n",
       "host_id                                 0.079107  \n",
       "latitude                                0.002114  \n",
       "longitude                               0.009485  \n",
       "price                                  -0.012957  \n",
       "minimum_nights                          0.044730  \n",
       "number_of_reviews                       0.039562  \n",
       "reviews_per_month                       0.040494  \n",
       "calculated_host_listings_count          0.101660  \n",
       "availability_365                        1.000000  "
      ]
     },
     "execution_count": 23,
     "metadata": {},
     "output_type": "execute_result"
    }
   ],
   "source": [
    "#Generando el mapa de calor para revisar las correlaciones y generar las hipotesis.\n",
    "\n",
    "#1.- Generando la tabla de correlacion\n",
    "\n",
    "df.corr()"
   ]
  },
  {
   "cell_type": "code",
   "execution_count": 26,
   "id": "91143c31",
   "metadata": {},
   "outputs": [
    {
     "data": {
      "text/plain": [
       "<AxesSubplot:>"
      ]
     },
     "execution_count": 26,
     "metadata": {},
     "output_type": "execute_result"
    },
    {
     "data": {
      "image/png": "[encoded data removed]",
      "text/plain": [
       "<Figure size 640x480 with 2 Axes>"
      ]
     },
     "metadata": {},
     "output_type": "display_data"
    }
   ],
   "source": [
    "#Mapa de calor de las variables numéricas.\n",
    "\n",
    "df[numericas].corr()\n",
    "\n",
    "sns.heatmap(df[numericas].corr(), vmin=-1., vmax=1., annot=True)"
   ]
  },
  {
   "cell_type": "code",
   "execution_count": 27,
   "id": "361b919f",
   "metadata": {},
   "outputs": [
    {
     "data": {
      "text/plain": [
       "<AxesSubplot:>"
      ]
     },
     "execution_count": 27,
     "metadata": {},
     "output_type": "execute_result"
    },
    {
     "data": {
      "image/png": "[encoded data removed]",
      "text/plain": [
       "<Figure size 1100x900 with 2 Axes>"
      ]
     },
     "metadata": {},
     "output_type": "display_data"
    }
   ],
   "source": [
    "# A continuación se muestra un mapa de calor mas amigable\n",
    "\n",
    "mask = np.triu(np.ones_like(df[numericas].corr(), dtype=bool))\n",
    "f, ax = plt.subplots(figsize=(11, 9))\n",
    "cmap = sns.diverging_palette(230, 20, as_cmap=True)\n",
    "sns.heatmap(df[numericas].corr(), mask=mask, cmap=cmap, vmax=1., vmin=-1., center=0,\n",
    "            square=True, linewidths=.5, cbar_kws={\"shrink\": .5}, annot=True)"
   ]
  },
  {
   "cell_type": "markdown",
   "id": "daaa1d33-0963-4b38-be1a-07f818a52af6",
   "metadata": {},
   "source": [
    "El mapa de calor no ha dado mucha claridad para la contruccion de hipotesis."
   ]
  },
  {
   "cell_type": "code",
   "execution_count": 62,
   "id": "548498ef",
   "metadata": {
    "scrolled": true
   },
   "outputs": [
    {
     "data": {
      "text/plain": [
       "<AxesSubplot:xlabel='price', ylabel='neighbourhood_group'>"
      ]
     },
     "execution_count": 62,
     "metadata": {},
     "output_type": "execute_result"
    },
    {
     "data": {
      "image/png": "[encoded data removed]",
      "text/plain": [
       "<Figure size 640x480 with 1 Axes>"
      ]
     },
     "metadata": {},
     "output_type": "display_data"
    }
   ],
   "source": [
    "#Usamos el grafico scatterplot para poder observar la relacion de variales e identificar posibles outliers.\n",
    "\n",
    "sns.scatterplot(data= df, x=\"price\", y=\"neighbourhood_group\", hue=\"price\")\n"
   ]
  },
  {
   "cell_type": "code",
   "execution_count": 30,
   "id": "1dd83e51",
   "metadata": {},
   "outputs": [
    {
     "data": {
      "text/plain": [
       "<AxesSubplot:xlabel='price', ylabel='neighbourhood_group'>"
      ]
     },
     "execution_count": 30,
     "metadata": {},
     "output_type": "execute_result"
    },
    {
     "data": {
      "image/png": "[encoded data removed]",
      "text/plain": [
       "<Figure size 640x480 with 1 Axes>"
      ]
     },
     "metadata": {},
     "output_type": "display_data"
    }
   ],
   "source": [
    "\n",
    "\n",
    "sns.scatterplot(data= df, x=\"price\", y=\"neighbourhood_group\")"
   ]
  },
  {
   "cell_type": "markdown",
   "id": "2ad4051a",
   "metadata": {},
   "source": [
    "Aqui podemos observar algunos outliers en zonas que no son tan céntricas, la explicacion que le podemos dar es que se celebrara algun evento en fechas determinadas. "
   ]
  },
  {
   "cell_type": "code",
   "execution_count": 31,
   "id": "6497285a",
   "metadata": {},
   "outputs": [
    {
     "data": {
      "text/plain": [
       "<AxesSubplot:xlabel='room_type', ylabel='price'>"
      ]
     },
     "execution_count": 31,
     "metadata": {},
     "output_type": "execute_result"
    },
    {
     "data": {
      "image/png": "[encoded data removed]",
      "text/plain": [
       "<Figure size 640x480 with 1 Axes>"
      ]
     },
     "metadata": {},
     "output_type": "display_data"
    }
   ],
   "source": [
    "# A continuacion, observamos la relacion del precio con el tipo de hospedaje\n",
    "sns.scatterplot(data= df, x=\"room_type\", y=\"price\", hue=\"price\")"
   ]
  },
  {
   "cell_type": "markdown",
   "id": "da4fd163",
   "metadata": {},
   "source": [
    "Deducimos que los outliers mas caracteristicos que se observan son en private room, hotel room y shared room. "
   ]
  },
  {
   "cell_type": "code",
   "execution_count": 32,
   "id": "d8030d5b",
   "metadata": {},
   "outputs": [
    {
     "data": {
      "text/plain": [
       "<AxesSubplot:xlabel='price', ylabel='Count'>"
      ]
     },
     "execution_count": 32,
     "metadata": {},
     "output_type": "execute_result"
    },
    {
     "data": {
      "image/png": "[encoded data removed]",
      "text/plain": [
       "<Figure size 640x480 with 1 Axes>"
      ]
     },
     "metadata": {},
     "output_type": "display_data"
    }
   ],
   "source": [
    "# Histograma en relacion al precio\n",
    "sns.histplot(data=df, x=\"price\", kde=True)"
   ]
  },
  {
   "cell_type": "markdown",
   "id": "a9ee998b",
   "metadata": {},
   "source": [
    "Segun el grafico, la distribucion no es normal al tener una cantidad de outliers significativos."
   ]
  },
  {
   "cell_type": "code",
   "execution_count": 33,
   "id": "c11831f6",
   "metadata": {},
   "outputs": [
    {
     "data": {
      "text/plain": [
       "<AxesSubplot:xlabel='price', ylabel='Count'>"
      ]
     },
     "execution_count": 33,
     "metadata": {},
     "output_type": "execute_result"
    },
    {
     "data": {
      "image/png": "[encoded data removed]",
      "text/plain": [
       "<Figure size 640x480 with 1 Axes>"
      ]
     },
     "metadata": {},
     "output_type": "display_data"
    }
   ],
   "source": [
    "#Se grafica el histograma excluyendo los outliers.\n",
    "sin_outliers = df[df[\"price\"]<300] \n",
    "sns.histplot(data=sin_outliers, x=\"price\", kde=True)"
   ]
  },
  {
   "cell_type": "markdown",
   "id": "70fccfb9",
   "metadata": {},
   "source": [
    "Se observa que no tenemos una distribucion normal con los precios de los hospedajes en Madrid."
   ]
  },
  {
   "cell_type": "code",
   "execution_count": 34,
   "id": "7b4b21c4",
   "metadata": {
    "scrolled": true
   },
   "outputs": [
    {
     "data": {
      "image/png": "[encoded data removed]",
      "text/plain": [
       "<Figure size 640x480 with 1 Axes>"
      ]
     },
     "metadata": {},
     "output_type": "display_data"
    }
   ],
   "source": [
    "#Creamos un grafico de barras y vemos la cantidad de pisos que ha publicado cada propietario en cada distrito.\n",
    "\n",
    "df_group1[\"host_id\"].plot(kind = \"bar\")\n",
    "plt.show() "
   ]
  },
  {
   "cell_type": "markdown",
   "id": "bf27743e",
   "metadata": {},
   "source": [
    "Comprobamos la hipotesis que en el centro hay una mayor cantidad de hospedajes en alquiler con un **64.5%** del total de anuncios."
   ]
  },
  {
   "cell_type": "code",
   "execution_count": 35,
   "id": "e43d4132",
   "metadata": {},
   "outputs": [
    {
     "data": {
      "image/png": "[encoded data removed]",
      "text/plain": [
       "<Figure size 640x480 with 1 Axes>"
      ]
     },
     "metadata": {},
     "output_type": "display_data"
    }
   ],
   "source": [
    "# Creamos un grafico de barras para comprobar outliers de precio segun el distrito.\n",
    "\n",
    "champions = df.groupby(\"neighbourhood_group\").mean()\n",
    "\n",
    "champions\n",
    "\n",
    "champions['price'].plot(kind = 'bar')\n",
    "plt.show() \n"
   ]
  },
  {
   "cell_type": "markdown",
   "id": "8a79044a",
   "metadata": {},
   "source": [
    "Comprobamos que existen eventos que condicionen los precios de los hospedajes. Uno de esos posibles eventos sería la final de la Champions en el año 2019 en el Wanda Metropolitano, ubicado en San Blas - Canillejas con 97 hospedajes."
   ]
  },
  {
   "cell_type": "code",
   "execution_count": 56,
   "id": "402e0a92-ddca-4c25-ad40-86738f4c0f60",
   "metadata": {},
   "outputs": [
    {
     "data": {
      "application/vnd.plotly.v1+json": {
       "config": {
        "plotlyServerURL": "https://plot.ly"
       },
       "data": [
        {
         "alignmentgroup": "True",
         "hovertemplate": "index=%{x}<br>count=%{y}<extra></extra>",
         "legendgroup": "",
         "marker": {
          "color": "#636efa",
          "pattern": {
           "shape": ""
          }
         },
         "name": "",
         "offsetgroup": "",
         "orientation": "v",
         "showlegend": false,
         "textposition": "auto",
         "type": "bar",
         "x": [
          "Centro",
          "Salamanca",
          "Chamberí",
          "Arganzuela",
          "Tetuán",
          "Carabanchel",
          "Retiro",
          "Ciudad Lineal",
          "Puente de Vallecas",
          "Latina",
          "Chamartín",
          "Moncloa - Aravaca",
          "San Blas - Canillejas",
          "Hortaleza",
          "Fuencarral - El Pardo",
          "Usera",
          "Villaverde",
          "Barajas",
          "Moratalaz",
          "Villa de Vallecas",
          "Vicálvaro"
         ],
         "xaxis": "x",
         "y": [
          8649,
          1324,
          1252,
          1104,
          816,
          708,
          664,
          649,
          617,
          608,
          580,
          554,
          497,
          364,
          315,
          280,
          177,
          172,
          118,
          98,
          72
         ],
         "yaxis": "y"
        }
       ],
       "layout": {
        "autosize": true,
        "barmode": "relative",
        "legend": {
         "tracegroupgap": 0
        },
        "margin": {
         "t": 60
        },
        "template": {
         "data": {
          "bar": [
           {
            "error_x": {
             "color": "#2a3f5f"
            },
            "error_y": {
             "color": "#2a3f5f"
            },
            "marker": {
             "line": {
              "color": "#E5ECF6",
              "width": 0.5
             },
             "pattern": {
              "fillmode": "overlay",
              "size": 10,
              "solidity": 0.2
             }
            },
            "type": "bar"
           }
          ],
          "barpolar": [
           {
            "marker": {
             "line": {
              "color": "#E5ECF6",
              "width": 0.5
             },
             "pattern": {
              "fillmode": "overlay",
              "size": 10,
              "solidity": 0.2
             }
            },
            "type": "barpolar"
           }
          ],
          "carpet": [
           {
            "aaxis": {
             "endlinecolor": "#2a3f5f",
             "gridcolor": "white",
             "linecolor": "white",
             "minorgridcolor": "white",
             "startlinecolor": "#2a3f5f"
            },
            "baxis": {
             "endlinecolor": "#2a3f5f",
             "gridcolor": "white",
             "linecolor": "white",
             "minorgridcolor": "white",
             "startlinecolor": "#2a3f5f"
            },
            "type": "carpet"
           }
          ],
          "choropleth": [
           {
            "colorbar": {
             "outlinewidth": 0,
             "ticks": ""
            },
            "type": "choropleth"
           }
          ],
          "contour": [
           {
            "colorbar": {
             "outlinewidth": 0,
             "ticks": ""
            },
            "colorscale": [
             [
              0,
              "#0d0887"
             ],
             [
              0.1111111111111111,
              "#46039f"
             ],
             [
              0.2222222222222222,
              "#7201a8"
             ],
             [
              0.3333333333333333,
              "#9c179e"
             ],
             [
              0.4444444444444444,
              "#bd3786"
             ],
             [
              0.5555555555555556,
              "#d8576b"
             ],
             [
              0.6666666666666666,
              "#ed7953"
             ],
             [
              0.7777777777777778,
              "#fb9f3a"
             ],
             [
              0.8888888888888888,
              "#fdca26"
             ],
             [
              1,
              "#f0f921"
             ]
            ],
            "type": "contour"
           }
          ],
          "contourcarpet": [
           {
            "colorbar": {
             "outlinewidth": 0,
             "ticks": ""
            },
            "type": "contourcarpet"
           }
          ],
          "heatmap": [
           {
            "colorbar": {
             "outlinewidth": 0,
             "ticks": ""
            },
            "colorscale": [
             [
              0,
              "#0d0887"
             ],
             [
              0.1111111111111111,
              "#46039f"
             ],
             [
              0.2222222222222222,
              "#7201a8"
             ],
             [
              0.3333333333333333,
              "#9c179e"
             ],
             [
              0.4444444444444444,
              "#bd3786"
             ],
             [
              0.5555555555555556,
              "#d8576b"
             ],
             [
              0.6666666666666666,
              "#ed7953"
             ],
             [
              0.7777777777777778,
              "#fb9f3a"
             ],
             [
              0.8888888888888888,
              "#fdca26"
             ],
             [
              1,
              "#f0f921"
             ]
            ],
            "type": "heatmap"
           }
          ],
          "heatmapgl": [
           {
            "colorbar": {
             "outlinewidth": 0,
             "ticks": ""
            },
            "colorscale": [
             [
              0,
              "#0d0887"
             ],
             [
              0.1111111111111111,
              "#46039f"
             ],
             [
              0.2222222222222222,
              "#7201a8"
             ],
             [
              0.3333333333333333,
              "#9c179e"
             ],
             [
              0.4444444444444444,
              "#bd3786"
             ],
             [
              0.5555555555555556,
              "#d8576b"
             ],
             [
              0.6666666666666666,
              "#ed7953"
             ],
             [
              0.7777777777777778,
              "#fb9f3a"
             ],
             [
              0.8888888888888888,
              "#fdca26"
             ],
             [
              1,
              "#f0f921"
             ]
            ],
            "type": "heatmapgl"
           }
          ],
          "histogram": [
           {
            "marker": {
             "pattern": {
              "fillmode": "overlay",
              "size": 10,
              "solidity": 0.2
             }
            },
            "type": "histogram"
           }
          ],
          "histogram2d": [
           {
            "colorbar": {
             "outlinewidth": 0,
             "ticks": ""
            },
            "colorscale": [
             [
              0,
              "#0d0887"
             ],
             [
              0.1111111111111111,
              "#46039f"
             ],
             [
              0.2222222222222222,
              "#7201a8"
             ],
             [
              0.3333333333333333,
              "#9c179e"
             ],
             [
              0.4444444444444444,
              "#bd3786"
             ],
             [
              0.5555555555555556,
              "#d8576b"
             ],
             [
              0.6666666666666666,
              "#ed7953"
             ],
             [
              0.7777777777777778,
              "#fb9f3a"
             ],
             [
              0.8888888888888888,
              "#fdca26"
             ],
             [
              1,
              "#f0f921"
             ]
            ],
            "type": "histogram2d"
           }
          ],
          "histogram2dcontour": [
           {
            "colorbar": {
             "outlinewidth": 0,
             "ticks": ""
            },
            "colorscale": [
             [
              0,
              "#0d0887"
             ],
             [
              0.1111111111111111,
              "#46039f"
             ],
             [
              0.2222222222222222,
              "#7201a8"
             ],
             [
              0.3333333333333333,
              "#9c179e"
             ],
             [
              0.4444444444444444,
              "#bd3786"
             ],
             [
              0.5555555555555556,
              "#d8576b"
             ],
             [
              0.6666666666666666,
              "#ed7953"
             ],
             [
              0.7777777777777778,
              "#fb9f3a"
             ],
             [
              0.8888888888888888,
              "#fdca26"
             ],
             [
              1,
              "#f0f921"
             ]
            ],
            "type": "histogram2dcontour"
           }
          ],
          "mesh3d": [
           {
            "colorbar": {
             "outlinewidth": 0,
             "ticks": ""
            },
            "type": "mesh3d"
           }
          ],
          "parcoords": [
           {
            "line": {
             "colorbar": {
              "outlinewidth": 0,
              "ticks": ""
             }
            },
            "type": "parcoords"
           }
          ],
          "pie": [
           {
            "automargin": true,
            "type": "pie"
           }
          ],
          "scatter": [
           {
            "fillpattern": {
             "fillmode": "overlay",
             "size": 10,
             "solidity": 0.2
            },
            "type": "scatter"
           }
          ],
          "scatter3d": [
           {
            "line": {
             "colorbar": {
              "outlinewidth": 0,
              "ticks": ""
             }
            },
            "marker": {
             "colorbar": {
              "outlinewidth": 0,
              "ticks": ""
             }
            },
            "type": "scatter3d"
           }
          ],
          "scattercarpet": [
           {
            "marker": {
             "colorbar": {
              "outlinewidth": 0,
              "ticks": ""
             }
            },
            "type": "scattercarpet"
           }
          ],
          "scattergeo": [
           {
            "marker": {
             "colorbar": {
              "outlinewidth": 0,
              "ticks": ""
             }
            },
            "type": "scattergeo"
           }
          ],
          "scattergl": [
           {
            "marker": {
             "colorbar": {
              "outlinewidth": 0,
              "ticks": ""
             }
            },
            "type": "scattergl"
           }
          ],
          "scattermapbox": [
           {
            "marker": {
             "colorbar": {
              "outlinewidth": 0,
              "ticks": ""
             }
            },
            "type": "scattermapbox"
           }
          ],
          "scatterpolar": [
           {
            "marker": {
             "colorbar": {
              "outlinewidth": 0,
              "ticks": ""
             }
            },
            "type": "scatterpolar"
           }
          ],
          "scatterpolargl": [
           {
            "marker": {
             "colorbar": {
              "outlinewidth": 0,
              "ticks": ""
             }
            },
            "type": "scatterpolargl"
           }
          ],
          "scatterternary": [
           {
            "marker": {
             "colorbar": {
              "outlinewidth": 0,
              "ticks": ""
             }
            },
            "type": "scatterternary"
           }
          ],
          "surface": [
           {
            "colorbar": {
             "outlinewidth": 0,
             "ticks": ""
            },
            "colorscale": [
             [
              0,
              "#0d0887"
             ],
             [
              0.1111111111111111,
              "#46039f"
             ],
             [
              0.2222222222222222,
              "#7201a8"
             ],
             [
              0.3333333333333333,
              "#9c179e"
             ],
             [
              0.4444444444444444,
              "#bd3786"
             ],
             [
              0.5555555555555556,
              "#d8576b"
             ],
             [
              0.6666666666666666,
              "#ed7953"
             ],
             [
              0.7777777777777778,
              "#fb9f3a"
             ],
             [
              0.8888888888888888,
              "#fdca26"
             ],
             [
              1,
              "#f0f921"
             ]
            ],
            "type": "surface"
           }
          ],
          "table": [
           {
            "cells": {
             "fill": {
              "color": "#EBF0F8"
             },
             "line": {
              "color": "white"
             }
            },
            "header": {
             "fill": {
              "color": "#C8D4E3"
             },
             "line": {
              "color": "white"
             }
            },
            "type": "table"
           }
          ]
         },
         "layout": {
          "annotationdefaults": {
           "arrowcolor": "#2a3f5f",
           "arrowhead": 0,
           "arrowwidth": 1
          },
          "autotypenumbers": "strict",
          "coloraxis": {
           "colorbar": {
            "outlinewidth": 0,
            "ticks": ""
           }
          },
          "colorscale": {
           "diverging": [
            [
             0,
             "#8e0152"
            ],
            [
             0.1,
             "#c51b7d"
            ],
            [
             0.2,
             "#de77ae"
            ],
            [
             0.3,
             "#f1b6da"
            ],
            [
             0.4,
             "#fde0ef"
            ],
            [
             0.5,
             "#f7f7f7"
            ],
            [
             0.6,
             "#e6f5d0"
            ],
            [
             0.7,
             "#b8e186"
            ],
            [
             0.8,
             "#7fbc41"
            ],
            [
             0.9,
             "#4d9221"
            ],
            [
             1,
             "#276419"
            ]
           ],
           "sequential": [
            [
             0,
             "#0d0887"
            ],
            [
             0.1111111111111111,
             "#46039f"
            ],
            [
             0.2222222222222222,
             "#7201a8"
            ],
            [
             0.3333333333333333,
             "#9c179e"
            ],
            [
             0.4444444444444444,
             "#bd3786"
            ],
            [
             0.5555555555555556,
             "#d8576b"
            ],
            [
             0.6666666666666666,
             "#ed7953"
            ],
            [
             0.7777777777777778,
             "#fb9f3a"
            ],
            [
             0.8888888888888888,
             "#fdca26"
            ],
            [
             1,
             "#f0f921"
            ]
           ],
           "sequentialminus": [
            [
             0,
             "#0d0887"
            ],
            [
             0.1111111111111111,
             "#46039f"
            ],
            [
             0.2222222222222222,
             "#7201a8"
            ],
            [
             0.3333333333333333,
             "#9c179e"
            ],
            [
             0.4444444444444444,
             "#bd3786"
            ],
            [
             0.5555555555555556,
             "#d8576b"
            ],
            [
             0.6666666666666666,
             "#ed7953"
            ],
            [
             0.7777777777777778,
             "#fb9f3a"
            ],
            [
             0.8888888888888888,
             "#fdca26"
            ],
            [
             1,
             "#f0f921"
            ]
           ]
          },
          "colorway": [
           "#636efa",
           "#EF553B",
           "#00cc96",
           "#ab63fa",
           "#FFA15A",
           "#19d3f3",
           "#FF6692",
           "#B6E880",
           "#FF97FF",
           "#FECB52"
          ],
          "font": {
           "color": "#2a3f5f"
          },
          "geo": {
           "bgcolor": "white",
           "lakecolor": "white",
           "landcolor": "#E5ECF6",
           "showlakes": true,
           "showland": true,
           "subunitcolor": "white"
          },
          "hoverlabel": {
           "align": "left"
          },
          "hovermode": "closest",
          "mapbox": {
           "style": "light"
          },
          "paper_bgcolor": "white",
          "plot_bgcolor": "#E5ECF6",
          "polar": {
           "angularaxis": {
            "gridcolor": "white",
            "linecolor": "white",
            "ticks": ""
           },
           "bgcolor": "#E5ECF6",
           "radialaxis": {
            "gridcolor": "white",
            "linecolor": "white",
            "ticks": ""
           }
          },
          "scene": {
           "xaxis": {
            "backgroundcolor": "#E5ECF6",
            "gridcolor": "white",
            "gridwidth": 2,
            "linecolor": "white",
            "showbackground": true,
            "ticks": "",
            "zerolinecolor": "white"
           },
           "yaxis": {
            "backgroundcolor": "#E5ECF6",
            "gridcolor": "white",
            "gridwidth": 2,
            "linecolor": "white",
            "showbackground": true,
            "ticks": "",
            "zerolinecolor": "white"
           },
           "zaxis": {
            "backgroundcolor": "#E5ECF6",
            "gridcolor": "white",
            "gridwidth": 2,
            "linecolor": "white",
            "showbackground": true,
            "ticks": "",
            "zerolinecolor": "white"
           }
          },
          "shapedefaults": {
           "line": {
            "color": "#2a3f5f"
           }
          },
          "ternary": {
           "aaxis": {
            "gridcolor": "white",
            "linecolor": "white",
            "ticks": ""
           },
           "baxis": {
            "gridcolor": "white",
            "linecolor": "white",
            "ticks": ""
           },
           "bgcolor": "#E5ECF6",
           "caxis": {
            "gridcolor": "white",
            "linecolor": "white",
            "ticks": ""
           }
          },
          "title": {
           "x": 0.05
          },
          "xaxis": {
           "automargin": true,
           "gridcolor": "white",
           "linecolor": "white",
           "ticks": "",
           "title": {
            "standoff": 15
           },
           "zerolinecolor": "white",
           "zerolinewidth": 2
          },
          "yaxis": {
           "automargin": true,
           "gridcolor": "white",
           "linecolor": "white",
           "ticks": "",
           "title": {
            "standoff": 15
           },
           "zerolinecolor": "white",
           "zerolinewidth": 2
          }
         }
        },
        "xaxis": {
         "anchor": "y",
         "autorange": true,
         "domain": [
          0,
          1
         ],
         "range": [
          -0.5,
          20.5
         ],
         "title": {
          "text": "index"
         },
         "type": "category"
        },
        "yaxis": {
         "anchor": "x",
         "autorange": true,
         "domain": [
          0,
          1
         ],
         "range": [
          0,
          9104.21052631579
         ],
         "title": {
          "text": "count"
         },
         "type": "linear"
        }
       }
      },
      "image/png": "[encoded data removed]",
      "text/html": [
       "<div>                            <div id=\"5619fe1e-a4de-4365-8675-777edd4201b1\" class=\"plotly-graph-div\" style=\"height:525px; width:100%;\"></div>            <script type=\"text/javascript\">                require([\"plotly\"], function(Plotly) {                    window.PLOTLYENV=window.PLOTLYENV || {};                                    if (document.getElementById(\"5619fe1e-a4de-4365-8675-777edd4201b1\")) {                    Plotly.newPlot(                        \"5619fe1e-a4de-4365-8675-777edd4201b1\",                        [{\"alignmentgroup\":\"True\",\"hovertemplate\":\"index=%{x}<br>count=%{y}<extra></extra>\",\"legendgroup\":\"\",\"marker\":{\"color\":\"#636efa\",\"pattern\":{\"shape\":\"\"}},\"name\":\"\",\"offsetgroup\":\"\",\"orientation\":\"v\",\"showlegend\":false,\"textposition\":\"auto\",\"x\":[\"Centro\",\"Salamanca\",\"Chamber\\u00ed\",\"Arganzuela\",\"Tetu\\u00e1n\",\"Carabanchel\",\"Retiro\",\"Ciudad Lineal\",\"Puente de Vallecas\",\"Latina\",\"Chamart\\u00edn\",\"Moncloa - Aravaca\",\"San Blas - Canillejas\",\"Hortaleza\",\"Fuencarral - El Pardo\",\"Usera\",\"Villaverde\",\"Barajas\",\"Moratalaz\",\"Villa de Vallecas\",\"Vic\\u00e1lvaro\"],\"xaxis\":\"x\",\"y\":[8649,1324,1252,1104,816,708,664,649,617,608,580,554,497,364,315,280,177,172,118,98,72],\"yaxis\":\"y\",\"type\":\"bar\"}],                        {\"template\":{\"data\":{\"histogram2dcontour\":[{\"type\":\"histogram2dcontour\",\"colorbar\":{\"outlinewidth\":0,\"ticks\":\"\"},\"colorscale\":[[0.0,\"#0d0887\"],[0.1111111111111111,\"#46039f\"],[0.2222222222222222,\"#7201a8\"],[0.3333333333333333,\"#9c179e\"],[0.4444444444444444,\"#bd3786\"],[0.5555555555555556,\"#d8576b\"],[0.6666666666666666,\"#ed7953\"],[0.7777777777777778,\"#fb9f3a\"],[0.8888888888888888,\"#fdca26\"],[1.0,\"#f0f921\"]]}],\"choropleth\":[{\"type\":\"choropleth\",\"colorbar\":{\"outlinewidth\":0,\"ticks\":\"\"}}],\"histogram2d\":[{\"type\":\"histogram2d\",\"colorbar\":{\"outlinewidth\":0,\"ticks\":\"\"},\"colorscale\":[[0.0,\"#0d0887\"],[0.1111111111111111,\"#46039f\"],[0.2222222222222222,\"#7201a8\"],[0.3333333333333333,\"#9c179e\"],[0.4444444444444444,\"#bd3786\"],[0.5555555555555556,\"#d8576b\"],[0.6666666666666666,\"#ed7953\"],[0.7777777777777778,\"#fb9f3a\"],[0.8888888888888888,\"#fdca26\"],[1.0,\"#f0f921\"]]}],\"heatmap\":[{\"type\":\"heatmap\",\"colorbar\":{\"outlinewidth\":0,\"ticks\":\"\"},\"colorscale\":[[0.0,\"#0d0887\"],[0.1111111111111111,\"#46039f\"],[0.2222222222222222,\"#7201a8\"],[0.3333333333333333,\"#9c179e\"],[0.4444444444444444,\"#bd3786\"],[0.5555555555555556,\"#d8576b\"],[0.6666666666666666,\"#ed7953\"],[0.7777777777777778,\"#fb9f3a\"],[0.8888888888888888,\"#fdca26\"],[1.0,\"#f0f921\"]]}],\"heatmapgl\":[{\"type\":\"heatmapgl\",\"colorbar\":{\"outlinewidth\":0,\"ticks\":\"\"},\"colorscale\":[[0.0,\"#0d0887\"],[0.1111111111111111,\"#46039f\"],[0.2222222222222222,\"#7201a8\"],[0.3333333333333333,\"#9c179e\"],[0.4444444444444444,\"#bd3786\"],[0.5555555555555556,\"#d8576b\"],[0.6666666666666666,\"#ed7953\"],[0.7777777777777778,\"#fb9f3a\"],[0.8888888888888888,\"#fdca26\"],[1.0,\"#f0f921\"]]}],\"contourcarpet\":[{\"type\":\"contourcarpet\",\"colorbar\":{\"outlinewidth\":0,\"ticks\":\"\"}}],\"contour\":[{\"type\":\"contour\",\"colorbar\":{\"outlinewidth\":0,\"ticks\":\"\"},\"colorscale\":[[0.0,\"#0d0887\"],[0.1111111111111111,\"#46039f\"],[0.2222222222222222,\"#7201a8\"],[0.3333333333333333,\"#9c179e\"],[0.4444444444444444,\"#bd3786\"],[0.5555555555555556,\"#d8576b\"],[0.6666666666666666,\"#ed7953\"],[0.7777777777777778,\"#fb9f3a\"],[0.8888888888888888,\"#fdca26\"],[1.0,\"#f0f921\"]]}],\"surface\":[{\"type\":\"surface\",\"colorbar\":{\"outlinewidth\":0,\"ticks\":\"\"},\"colorscale\":[[0.0,\"#0d0887\"],[0.1111111111111111,\"#46039f\"],[0.2222222222222222,\"#7201a8\"],[0.3333333333333333,\"#9c179e\"],[0.4444444444444444,\"#bd3786\"],[0.5555555555555556,\"#d8576b\"],[0.6666666666666666,\"#ed7953\"],[0.7777777777777778,\"#fb9f3a\"],[0.8888888888888888,\"#fdca26\"],[1.0,\"#f0f921\"]]}],\"mesh3d\":[{\"type\":\"mesh3d\",\"colorbar\":{\"outlinewidth\":0,\"ticks\":\"\"}}],\"scatter\":[{\"fillpattern\":{\"fillmode\":\"overlay\",\"size\":10,\"solidity\":0.2},\"type\":\"scatter\"}],\"parcoords\":[{\"type\":\"parcoords\",\"line\":{\"colorbar\":{\"outlinewidth\":0,\"ticks\":\"\"}}}],\"scatterpolargl\":[{\"type\":\"scatterpolargl\",\"marker\":{\"colorbar\":{\"outlinewidth\":0,\"ticks\":\"\"}}}],\"bar\":[{\"error_x\":{\"color\":\"#2a3f5f\"},\"error_y\":{\"color\":\"#2a3f5f\"},\"marker\":{\"line\":{\"color\":\"#E5ECF6\",\"width\":0.5},\"pattern\":{\"fillmode\":\"overlay\",\"size\":10,\"solidity\":0.2}},\"type\":\"bar\"}],\"scattergeo\":[{\"type\":\"scattergeo\",\"marker\":{\"colorbar\":{\"outlinewidth\":0,\"ticks\":\"\"}}}],\"scatterpolar\":[{\"type\":\"scatterpolar\",\"marker\":{\"colorbar\":{\"outlinewidth\":0,\"ticks\":\"\"}}}],\"histogram\":[{\"marker\":{\"pattern\":{\"fillmode\":\"overlay\",\"size\":10,\"solidity\":0.2}},\"type\":\"histogram\"}],\"scattergl\":[{\"type\":\"scattergl\",\"marker\":{\"colorbar\":{\"outlinewidth\":0,\"ticks\":\"\"}}}],\"scatter3d\":[{\"type\":\"scatter3d\",\"line\":{\"colorbar\":{\"outlinewidth\":0,\"ticks\":\"\"}},\"marker\":{\"colorbar\":{\"outlinewidth\":0,\"ticks\":\"\"}}}],\"scattermapbox\":[{\"type\":\"scattermapbox\",\"marker\":{\"colorbar\":{\"outlinewidth\":0,\"ticks\":\"\"}}}],\"scatterternary\":[{\"type\":\"scatterternary\",\"marker\":{\"colorbar\":{\"outlinewidth\":0,\"ticks\":\"\"}}}],\"scattercarpet\":[{\"type\":\"scattercarpet\",\"marker\":{\"colorbar\":{\"outlinewidth\":0,\"ticks\":\"\"}}}],\"carpet\":[{\"aaxis\":{\"endlinecolor\":\"#2a3f5f\",\"gridcolor\":\"white\",\"linecolor\":\"white\",\"minorgridcolor\":\"white\",\"startlinecolor\":\"#2a3f5f\"},\"baxis\":{\"endlinecolor\":\"#2a3f5f\",\"gridcolor\":\"white\",\"linecolor\":\"white\",\"minorgridcolor\":\"white\",\"startlinecolor\":\"#2a3f5f\"},\"type\":\"carpet\"}],\"table\":[{\"cells\":{\"fill\":{\"color\":\"#EBF0F8\"},\"line\":{\"color\":\"white\"}},\"header\":{\"fill\":{\"color\":\"#C8D4E3\"},\"line\":{\"color\":\"white\"}},\"type\":\"table\"}],\"barpolar\":[{\"marker\":{\"line\":{\"color\":\"#E5ECF6\",\"width\":0.5},\"pattern\":{\"fillmode\":\"overlay\",\"size\":10,\"solidity\":0.2}},\"type\":\"barpolar\"}],\"pie\":[{\"automargin\":true,\"type\":\"pie\"}]},\"layout\":{\"autotypenumbers\":\"strict\",\"colorway\":[\"#636efa\",\"#EF553B\",\"#00cc96\",\"#ab63fa\",\"#FFA15A\",\"#19d3f3\",\"#FF6692\",\"#B6E880\",\"#FF97FF\",\"#FECB52\"],\"font\":{\"color\":\"#2a3f5f\"},\"hovermode\":\"closest\",\"hoverlabel\":{\"align\":\"left\"},\"paper_bgcolor\":\"white\",\"plot_bgcolor\":\"#E5ECF6\",\"polar\":{\"bgcolor\":\"#E5ECF6\",\"angularaxis\":{\"gridcolor\":\"white\",\"linecolor\":\"white\",\"ticks\":\"\"},\"radialaxis\":{\"gridcolor\":\"white\",\"linecolor\":\"white\",\"ticks\":\"\"}},\"ternary\":{\"bgcolor\":\"#E5ECF6\",\"aaxis\":{\"gridcolor\":\"white\",\"linecolor\":\"white\",\"ticks\":\"\"},\"baxis\":{\"gridcolor\":\"white\",\"linecolor\":\"white\",\"ticks\":\"\"},\"caxis\":{\"gridcolor\":\"white\",\"linecolor\":\"white\",\"ticks\":\"\"}},\"coloraxis\":{\"colorbar\":{\"outlinewidth\":0,\"ticks\":\"\"}},\"colorscale\":{\"sequential\":[[0.0,\"#0d0887\"],[0.1111111111111111,\"#46039f\"],[0.2222222222222222,\"#7201a8\"],[0.3333333333333333,\"#9c179e\"],[0.4444444444444444,\"#bd3786\"],[0.5555555555555556,\"#d8576b\"],[0.6666666666666666,\"#ed7953\"],[0.7777777777777778,\"#fb9f3a\"],[0.8888888888888888,\"#fdca26\"],[1.0,\"#f0f921\"]],\"sequentialminus\":[[0.0,\"#0d0887\"],[0.1111111111111111,\"#46039f\"],[0.2222222222222222,\"#7201a8\"],[0.3333333333333333,\"#9c179e\"],[0.4444444444444444,\"#bd3786\"],[0.5555555555555556,\"#d8576b\"],[0.6666666666666666,\"#ed7953\"],[0.7777777777777778,\"#fb9f3a\"],[0.8888888888888888,\"#fdca26\"],[1.0,\"#f0f921\"]],\"diverging\":[[0,\"#8e0152\"],[0.1,\"#c51b7d\"],[0.2,\"#de77ae\"],[0.3,\"#f1b6da\"],[0.4,\"#fde0ef\"],[0.5,\"#f7f7f7\"],[0.6,\"#e6f5d0\"],[0.7,\"#b8e186\"],[0.8,\"#7fbc41\"],[0.9,\"#4d9221\"],[1,\"#276419\"]]},\"xaxis\":{\"gridcolor\":\"white\",\"linecolor\":\"white\",\"ticks\":\"\",\"title\":{\"standoff\":15},\"zerolinecolor\":\"white\",\"automargin\":true,\"zerolinewidth\":2},\"yaxis\":{\"gridcolor\":\"white\",\"linecolor\":\"white\",\"ticks\":\"\",\"title\":{\"standoff\":15},\"zerolinecolor\":\"white\",\"automargin\":true,\"zerolinewidth\":2},\"scene\":{\"xaxis\":{\"backgroundcolor\":\"#E5ECF6\",\"gridcolor\":\"white\",\"linecolor\":\"white\",\"showbackground\":true,\"ticks\":\"\",\"zerolinecolor\":\"white\",\"gridwidth\":2},\"yaxis\":{\"backgroundcolor\":\"#E5ECF6\",\"gridcolor\":\"white\",\"linecolor\":\"white\",\"showbackground\":true,\"ticks\":\"\",\"zerolinecolor\":\"white\",\"gridwidth\":2},\"zaxis\":{\"backgroundcolor\":\"#E5ECF6\",\"gridcolor\":\"white\",\"linecolor\":\"white\",\"showbackground\":true,\"ticks\":\"\",\"zerolinecolor\":\"white\",\"gridwidth\":2}},\"shapedefaults\":{\"line\":{\"color\":\"#2a3f5f\"}},\"annotationdefaults\":{\"arrowcolor\":\"#2a3f5f\",\"arrowhead\":0,\"arrowwidth\":1},\"geo\":{\"bgcolor\":\"white\",\"landcolor\":\"#E5ECF6\",\"subunitcolor\":\"white\",\"showland\":true,\"showlakes\":true,\"lakecolor\":\"white\"},\"title\":{\"x\":0.05},\"mapbox\":{\"style\":\"light\"}}},\"xaxis\":{\"anchor\":\"y\",\"domain\":[0.0,1.0],\"title\":{\"text\":\"index\"}},\"yaxis\":{\"anchor\":\"x\",\"domain\":[0.0,1.0],\"title\":{\"text\":\"count\"}},\"legend\":{\"tracegroupgap\":0},\"margin\":{\"t\":60},\"barmode\":\"relative\"},                        {\"responsive\": true}                    ).then(function(){\n",
       "                            \n",
       "var gd = document.getElementById('5619fe1e-a4de-4365-8675-777edd4201b1');\n",
       "var x = new MutationObserver(function (mutations, observer) {{\n",
       "        var display = window.getComputedStyle(gd).display;\n",
       "        if (!display || display === 'none') {{\n",
       "            console.log([gd, 'removed!']);\n",
       "            Plotly.purge(gd);\n",
       "            observer.disconnect();\n",
       "        }}\n",
       "}});\n",
       "\n",
       "// Listen for the removal of the full notebook cells\n",
       "var notebookContainer = gd.closest('#notebook-container');\n",
       "if (notebookContainer) {{\n",
       "    x.observe(notebookContainer, {childList: true});\n",
       "}}\n",
       "\n",
       "// Listen for the clearing of the current output cell\n",
       "var outputEl = gd.closest('.output');\n",
       "if (outputEl) {{\n",
       "    x.observe(outputEl, {childList: true});\n",
       "}}\n",
       "\n",
       "                        })                };                });            </script>        </div>"
      ]
     },
     "metadata": {},
     "output_type": "display_data"
    }
   ],
   "source": [
    "\n",
    "\n",
    "fig = px.bar((df['neighbourhood_group'].value_counts()).to_frame(name=\"count\"), y=\"count\")\n",
    "fig.show()\n"
   ]
  },
  {
   "cell_type": "code",
   "execution_count": 58,
   "id": "f2002e83-d521-4963-a977-ffe1beb21a23",
   "metadata": {},
   "outputs": [
    {
     "data": {
      "text/html": [
       "<div>\n",
       "<style scoped>\n",
       "    .dataframe tbody tr th:only-of-type {\n",
       "        vertical-align: middle;\n",
       "    }\n",
       "\n",
       "    .dataframe tbody tr th {\n",
       "        vertical-align: top;\n",
       "    }\n",
       "\n",
       "    .dataframe thead th {\n",
       "        text-align: right;\n",
       "    }\n",
       "</style>\n",
       "<table border=\"1\" class=\"dataframe\">\n",
       "  <thead>\n",
       "    <tr style=\"text-align: right;\">\n",
       "      <th></th>\n",
       "      <th>id</th>\n",
       "      <th>name</th>\n",
       "      <th>host_id</th>\n",
       "      <th>host_name</th>\n",
       "      <th>neighbourhood_group</th>\n",
       "      <th>neighbourhood</th>\n",
       "      <th>latitude</th>\n",
       "      <th>longitude</th>\n",
       "      <th>room_type</th>\n",
       "      <th>price</th>\n",
       "      <th>minimum_nights</th>\n",
       "      <th>number_of_reviews</th>\n",
       "      <th>last_review</th>\n",
       "      <th>reviews_per_month</th>\n",
       "      <th>calculated_host_listings_count</th>\n",
       "      <th>availability_365</th>\n",
       "    </tr>\n",
       "  </thead>\n",
       "  <tbody>\n",
       "    <tr>\n",
       "      <th>3</th>\n",
       "      <td>24805</td>\n",
       "      <td>Gran Via Studio Madrid</td>\n",
       "      <td>346366726</td>\n",
       "      <td>A</td>\n",
       "      <td>Centro</td>\n",
       "      <td>Universidad</td>\n",
       "      <td>40.42183</td>\n",
       "      <td>-3.70529</td>\n",
       "      <td>Entire home/apt</td>\n",
       "      <td>92</td>\n",
       "      <td>5</td>\n",
       "      <td>10</td>\n",
       "      <td>2020-03-01</td>\n",
       "      <td>0.13</td>\n",
       "      <td>1</td>\n",
       "      <td>72</td>\n",
       "    </tr>\n",
       "    <tr>\n",
       "      <th>6</th>\n",
       "      <td>30320</td>\n",
       "      <td>Great Vacational Apartments</td>\n",
       "      <td>130907</td>\n",
       "      <td>Dana</td>\n",
       "      <td>Centro</td>\n",
       "      <td>Sol</td>\n",
       "      <td>40.41476</td>\n",
       "      <td>-3.70418</td>\n",
       "      <td>Entire home/apt</td>\n",
       "      <td>65</td>\n",
       "      <td>5</td>\n",
       "      <td>170</td>\n",
       "      <td>2020-01-04</td>\n",
       "      <td>1.29</td>\n",
       "      <td>3</td>\n",
       "      <td>351</td>\n",
       "    </tr>\n",
       "    <tr>\n",
       "      <th>7</th>\n",
       "      <td>30959</td>\n",
       "      <td>Beautiful loft in Madrid Center</td>\n",
       "      <td>132883</td>\n",
       "      <td>Angela</td>\n",
       "      <td>Centro</td>\n",
       "      <td>Embajadores</td>\n",
       "      <td>40.41259</td>\n",
       "      <td>-3.70105</td>\n",
       "      <td>Entire home/apt</td>\n",
       "      <td>54</td>\n",
       "      <td>3</td>\n",
       "      <td>8</td>\n",
       "      <td>2017-05-30</td>\n",
       "      <td>0.11</td>\n",
       "      <td>1</td>\n",
       "      <td>0</td>\n",
       "    </tr>\n",
       "    <tr>\n",
       "      <th>8</th>\n",
       "      <td>37859</td>\n",
       "      <td>PISO, OPERA, MADRID, GRANDE</td>\n",
       "      <td>162701</td>\n",
       "      <td>Nacho</td>\n",
       "      <td>Centro</td>\n",
       "      <td>Palacio</td>\n",
       "      <td>40.41844</td>\n",
       "      <td>-3.71073</td>\n",
       "      <td>Entire home/apt</td>\n",
       "      <td>1400</td>\n",
       "      <td>3</td>\n",
       "      <td>0</td>\n",
       "      <td>No Reviews</td>\n",
       "      <td>0.00</td>\n",
       "      <td>3</td>\n",
       "      <td>365</td>\n",
       "    </tr>\n",
       "    <tr>\n",
       "      <th>9</th>\n",
       "      <td>40718</td>\n",
       "      <td>COZY APARTMENT CIBELES-GRAN VIA-PTA DEL SOL-CH...</td>\n",
       "      <td>34217435</td>\n",
       "      <td>Luis</td>\n",
       "      <td>Centro</td>\n",
       "      <td>Justicia</td>\n",
       "      <td>40.41969</td>\n",
       "      <td>-3.69736</td>\n",
       "      <td>Entire home/apt</td>\n",
       "      <td>79</td>\n",
       "      <td>3</td>\n",
       "      <td>118</td>\n",
       "      <td>2019-07-23</td>\n",
       "      <td>0.91</td>\n",
       "      <td>11</td>\n",
       "      <td>302</td>\n",
       "    </tr>\n",
       "    <tr>\n",
       "      <th>...</th>\n",
       "      <td>...</td>\n",
       "      <td>...</td>\n",
       "      <td>...</td>\n",
       "      <td>...</td>\n",
       "      <td>...</td>\n",
       "      <td>...</td>\n",
       "      <td>...</td>\n",
       "      <td>...</td>\n",
       "      <td>...</td>\n",
       "      <td>...</td>\n",
       "      <td>...</td>\n",
       "      <td>...</td>\n",
       "      <td>...</td>\n",
       "      <td>...</td>\n",
       "      <td>...</td>\n",
       "      <td>...</td>\n",
       "    </tr>\n",
       "    <tr>\n",
       "      <th>19605</th>\n",
       "      <td>49170265</td>\n",
       "      <td>Habitación en pleno centro de madrid</td>\n",
       "      <td>269722123</td>\n",
       "      <td>Y</td>\n",
       "      <td>Centro</td>\n",
       "      <td>Palacio</td>\n",
       "      <td>40.42185</td>\n",
       "      <td>-3.70836</td>\n",
       "      <td>Private room</td>\n",
       "      <td>29</td>\n",
       "      <td>2</td>\n",
       "      <td>0</td>\n",
       "      <td>No Reviews</td>\n",
       "      <td>0.00</td>\n",
       "      <td>1</td>\n",
       "      <td>306</td>\n",
       "    </tr>\n",
       "    <tr>\n",
       "      <th>19607</th>\n",
       "      <td>49173393</td>\n",
       "      <td>HABITACION PRIVADA DOBLE CENTRO MADRID</td>\n",
       "      <td>319616632</td>\n",
       "      <td>Fabrizzio</td>\n",
       "      <td>Centro</td>\n",
       "      <td>Universidad</td>\n",
       "      <td>40.42049</td>\n",
       "      <td>-3.70261</td>\n",
       "      <td>Private room</td>\n",
       "      <td>18</td>\n",
       "      <td>6</td>\n",
       "      <td>0</td>\n",
       "      <td>No Reviews</td>\n",
       "      <td>0.00</td>\n",
       "      <td>38</td>\n",
       "      <td>342</td>\n",
       "    </tr>\n",
       "    <tr>\n",
       "      <th>19608</th>\n",
       "      <td>49173577</td>\n",
       "      <td>Habitación Doble Con Balcón</td>\n",
       "      <td>301232803</td>\n",
       "      <td>Le Petit Palü -Fuencarral</td>\n",
       "      <td>Centro</td>\n",
       "      <td>Universidad</td>\n",
       "      <td>40.42108</td>\n",
       "      <td>-3.70179</td>\n",
       "      <td>Private room</td>\n",
       "      <td>38</td>\n",
       "      <td>1</td>\n",
       "      <td>0</td>\n",
       "      <td>No Reviews</td>\n",
       "      <td>0.00</td>\n",
       "      <td>4</td>\n",
       "      <td>365</td>\n",
       "    </tr>\n",
       "    <tr>\n",
       "      <th>19611</th>\n",
       "      <td>49177673</td>\n",
       "      <td>Acogedor apartamento en centro histórico de Ma...</td>\n",
       "      <td>143484776</td>\n",
       "      <td>Maria Teresa</td>\n",
       "      <td>Centro</td>\n",
       "      <td>Palacio</td>\n",
       "      <td>40.41965</td>\n",
       "      <td>-3.70811</td>\n",
       "      <td>Entire home/apt</td>\n",
       "      <td>85</td>\n",
       "      <td>2</td>\n",
       "      <td>0</td>\n",
       "      <td>No Reviews</td>\n",
       "      <td>0.00</td>\n",
       "      <td>3</td>\n",
       "      <td>358</td>\n",
       "    </tr>\n",
       "    <tr>\n",
       "      <th>19613</th>\n",
       "      <td>49185822</td>\n",
       "      <td>Habitación con TV con Netflix en Lavapiés</td>\n",
       "      <td>172011610</td>\n",
       "      <td>Belaid</td>\n",
       "      <td>Centro</td>\n",
       "      <td>Embajadores</td>\n",
       "      <td>40.40756</td>\n",
       "      <td>-3.69937</td>\n",
       "      <td>Private room</td>\n",
       "      <td>23</td>\n",
       "      <td>30</td>\n",
       "      <td>0</td>\n",
       "      <td>No Reviews</td>\n",
       "      <td>0.00</td>\n",
       "      <td>8</td>\n",
       "      <td>349</td>\n",
       "    </tr>\n",
       "  </tbody>\n",
       "</table>\n",
       "<p>8649 rows × 16 columns</p>\n",
       "</div>"
      ],
      "text/plain": [
       "             id                                               name    host_id  \\\n",
       "3         24805                             Gran Via Studio Madrid  346366726   \n",
       "6         30320                        Great Vacational Apartments     130907   \n",
       "7         30959                    Beautiful loft in Madrid Center     132883   \n",
       "8         37859                        PISO, OPERA, MADRID, GRANDE     162701   \n",
       "9         40718  COZY APARTMENT CIBELES-GRAN VIA-PTA DEL SOL-CH...   34217435   \n",
       "...         ...                                                ...        ...   \n",
       "19605  49170265               Habitación en pleno centro de madrid  269722123   \n",
       "19607  49173393             HABITACION PRIVADA DOBLE CENTRO MADRID  319616632   \n",
       "19608  49173577                        Habitación Doble Con Balcón  301232803   \n",
       "19611  49177673  Acogedor apartamento en centro histórico de Ma...  143484776   \n",
       "19613  49185822          Habitación con TV con Netflix en Lavapiés  172011610   \n",
       "\n",
       "                       host_name neighbourhood_group neighbourhood  latitude  \\\n",
       "3                              A              Centro   Universidad  40.42183   \n",
       "6                           Dana              Centro           Sol  40.41476   \n",
       "7                         Angela              Centro   Embajadores  40.41259   \n",
       "8                          Nacho              Centro       Palacio  40.41844   \n",
       "9                           Luis              Centro      Justicia  40.41969   \n",
       "...                          ...                 ...           ...       ...   \n",
       "19605                          Y              Centro       Palacio  40.42185   \n",
       "19607                  Fabrizzio              Centro   Universidad  40.42049   \n",
       "19608  Le Petit Palü -Fuencarral              Centro   Universidad  40.42108   \n",
       "19611               Maria Teresa              Centro       Palacio  40.41965   \n",
       "19613                     Belaid              Centro   Embajadores  40.40756   \n",
       "\n",
       "       longitude        room_type  price  minimum_nights  number_of_reviews  \\\n",
       "3       -3.70529  Entire home/apt     92               5                 10   \n",
       "6       -3.70418  Entire home/apt     65               5                170   \n",
       "7       -3.70105  Entire home/apt     54               3                  8   \n",
       "8       -3.71073  Entire home/apt   1400               3                  0   \n",
       "9       -3.69736  Entire home/apt     79               3                118   \n",
       "...          ...              ...    ...             ...                ...   \n",
       "19605   -3.70836     Private room     29               2                  0   \n",
       "19607   -3.70261     Private room     18               6                  0   \n",
       "19608   -3.70179     Private room     38               1                  0   \n",
       "19611   -3.70811  Entire home/apt     85               2                  0   \n",
       "19613   -3.69937     Private room     23              30                  0   \n",
       "\n",
       "      last_review  reviews_per_month  calculated_host_listings_count  \\\n",
       "3      2020-03-01               0.13                               1   \n",
       "6      2020-01-04               1.29                               3   \n",
       "7      2017-05-30               0.11                               1   \n",
       "8      No Reviews               0.00                               3   \n",
       "9      2019-07-23               0.91                              11   \n",
       "...           ...                ...                             ...   \n",
       "19605  No Reviews               0.00                               1   \n",
       "19607  No Reviews               0.00                              38   \n",
       "19608  No Reviews               0.00                               4   \n",
       "19611  No Reviews               0.00                               3   \n",
       "19613  No Reviews               0.00                               8   \n",
       "\n",
       "       availability_365  \n",
       "3                    72  \n",
       "6                   351  \n",
       "7                     0  \n",
       "8                   365  \n",
       "9                   302  \n",
       "...                 ...  \n",
       "19605               306  \n",
       "19607               342  \n",
       "19608               365  \n",
       "19611               358  \n",
       "19613               349  \n",
       "\n",
       "[8649 rows x 16 columns]"
      ]
     },
     "metadata": {},
     "output_type": "display_data"
    }
   ],
   "source": [
    "datos_centro = df[df[\"neighbourhood_group\"].str.contains(\"Centro\")]\n",
    "display(datos_centro)"
   ]
  },
  {
   "cell_type": "code",
   "execution_count": 59,
   "id": "d3cf20d7-9cdb-4b31-a66c-5c39d498f252",
   "metadata": {},
   "outputs": [
    {
     "data": {
      "application/vnd.plotly.v1+json": {
       "config": {
        "plotlyServerURL": "https://plot.ly"
       },
       "data": [
        {
         "alignmentgroup": "True",
         "hovertemplate": "index=%{x}<br>count=%{y}<extra></extra>",
         "legendgroup": "",
         "marker": {
          "color": "#636efa",
          "pattern": {
           "shape": ""
          }
         },
         "name": "",
         "offsetgroup": "",
         "orientation": "v",
         "showlegend": false,
         "textposition": "auto",
         "type": "bar",
         "x": [
          "Embajadores",
          "Universidad",
          "Palacio",
          "Sol",
          "Justicia",
          "Cortes"
         ],
         "xaxis": "x",
         "y": [
          2318,
          1869,
          1506,
          1125,
          951,
          880
         ],
         "yaxis": "y"
        }
       ],
       "layout": {
        "autosize": true,
        "barmode": "relative",
        "legend": {
         "tracegroupgap": 0
        },
        "margin": {
         "t": 60
        },
        "template": {
         "data": {
          "bar": [
           {
            "error_x": {
             "color": "#2a3f5f"
            },
            "error_y": {
             "color": "#2a3f5f"
            },
            "marker": {
             "line": {
              "color": "#E5ECF6",
              "width": 0.5
             },
             "pattern": {
              "fillmode": "overlay",
              "size": 10,
              "solidity": 0.2
             }
            },
            "type": "bar"
           }
          ],
          "barpolar": [
           {
            "marker": {
             "line": {
              "color": "#E5ECF6",
              "width": 0.5
             },
             "pattern": {
              "fillmode": "overlay",
              "size": 10,
              "solidity": 0.2
             }
            },
            "type": "barpolar"
           }
          ],
          "carpet": [
           {
            "aaxis": {
             "endlinecolor": "#2a3f5f",
             "gridcolor": "white",
             "linecolor": "white",
             "minorgridcolor": "white",
             "startlinecolor": "#2a3f5f"
            },
            "baxis": {
             "endlinecolor": "#2a3f5f",
             "gridcolor": "white",
             "linecolor": "white",
             "minorgridcolor": "white",
             "startlinecolor": "#2a3f5f"
            },
            "type": "carpet"
           }
          ],
          "choropleth": [
           {
            "colorbar": {
             "outlinewidth": 0,
             "ticks": ""
            },
            "type": "choropleth"
           }
          ],
          "contour": [
           {
            "colorbar": {
             "outlinewidth": 0,
             "ticks": ""
            },
            "colorscale": [
             [
              0,
              "#0d0887"
             ],
             [
              0.1111111111111111,
              "#46039f"
             ],
             [
              0.2222222222222222,
              "#7201a8"
             ],
             [
              0.3333333333333333,
              "#9c179e"
             ],
             [
              0.4444444444444444,
              "#bd3786"
             ],
             [
              0.5555555555555556,
              "#d8576b"
             ],
             [
              0.6666666666666666,
              "#ed7953"
             ],
             [
              0.7777777777777778,
              "#fb9f3a"
             ],
             [
              0.8888888888888888,
              "#fdca26"
             ],
             [
              1,
              "#f0f921"
             ]
            ],
            "type": "contour"
           }
          ],
          "contourcarpet": [
           {
            "colorbar": {
             "outlinewidth": 0,
             "ticks": ""
            },
            "type": "contourcarpet"
           }
          ],
          "heatmap": [
           {
            "colorbar": {
             "outlinewidth": 0,
             "ticks": ""
            },
            "colorscale": [
             [
              0,
              "#0d0887"
             ],
             [
              0.1111111111111111,
              "#46039f"
             ],
             [
              0.2222222222222222,
              "#7201a8"
             ],
             [
              0.3333333333333333,
              "#9c179e"
             ],
             [
              0.4444444444444444,
              "#bd3786"
             ],
             [
              0.5555555555555556,
              "#d8576b"
             ],
             [
              0.6666666666666666,
              "#ed7953"
             ],
             [
              0.7777777777777778,
              "#fb9f3a"
             ],
             [
              0.8888888888888888,
              "#fdca26"
             ],
             [
              1,
              "#f0f921"
             ]
            ],
            "type": "heatmap"
           }
          ],
          "heatmapgl": [
           {
            "colorbar": {
             "outlinewidth": 0,
             "ticks": ""
            },
            "colorscale": [
             [
              0,
              "#0d0887"
             ],
             [
              0.1111111111111111,
              "#46039f"
             ],
             [
              0.2222222222222222,
              "#7201a8"
             ],
             [
              0.3333333333333333,
              "#9c179e"
             ],
             [
              0.4444444444444444,
              "#bd3786"
             ],
             [
              0.5555555555555556,
              "#d8576b"
             ],
             [
              0.6666666666666666,
              "#ed7953"
             ],
             [
              0.7777777777777778,
              "#fb9f3a"
             ],
             [
              0.8888888888888888,
              "#fdca26"
             ],
             [
              1,
              "#f0f921"
             ]
            ],
            "type": "heatmapgl"
           }
          ],
          "histogram": [
           {
            "marker": {
             "pattern": {
              "fillmode": "overlay",
              "size": 10,
              "solidity": 0.2
             }
            },
            "type": "histogram"
           }
          ],
          "histogram2d": [
           {
            "colorbar": {
             "outlinewidth": 0,
             "ticks": ""
            },
            "colorscale": [
             [
              0,
              "#0d0887"
             ],
             [
              0.1111111111111111,
              "#46039f"
             ],
             [
              0.2222222222222222,
              "#7201a8"
             ],
             [
              0.3333333333333333,
              "#9c179e"
             ],
             [
              0.4444444444444444,
              "#bd3786"
             ],
             [
              0.5555555555555556,
              "#d8576b"
             ],
             [
              0.6666666666666666,
              "#ed7953"
             ],
             [
              0.7777777777777778,
              "#fb9f3a"
             ],
             [
              0.8888888888888888,
              "#fdca26"
             ],
             [
              1,
              "#f0f921"
             ]
            ],
            "type": "histogram2d"
           }
          ],
          "histogram2dcontour": [
           {
            "colorbar": {
             "outlinewidth": 0,
             "ticks": ""
            },
            "colorscale": [
             [
              0,
              "#0d0887"
             ],
             [
              0.1111111111111111,
              "#46039f"
             ],
             [
              0.2222222222222222,
              "#7201a8"
             ],
             [
              0.3333333333333333,
              "#9c179e"
             ],
             [
              0.4444444444444444,
              "#bd3786"
             ],
             [
              0.5555555555555556,
              "#d8576b"
             ],
             [
              0.6666666666666666,
              "#ed7953"
             ],
             [
              0.7777777777777778,
              "#fb9f3a"
             ],
             [
              0.8888888888888888,
              "#fdca26"
             ],
             [
              1,
              "#f0f921"
             ]
            ],
            "type": "histogram2dcontour"
           }
          ],
          "mesh3d": [
           {
            "colorbar": {
             "outlinewidth": 0,
             "ticks": ""
            },
            "type": "mesh3d"
           }
          ],
          "parcoords": [
           {
            "line": {
             "colorbar": {
              "outlinewidth": 0,
              "ticks": ""
             }
            },
            "type": "parcoords"
           }
          ],
          "pie": [
           {
            "automargin": true,
            "type": "pie"
           }
          ],
          "scatter": [
           {
            "fillpattern": {
             "fillmode": "overlay",
             "size": 10,
             "solidity": 0.2
            },
            "type": "scatter"
           }
          ],
          "scatter3d": [
           {
            "line": {
             "colorbar": {
              "outlinewidth": 0,
              "ticks": ""
             }
            },
            "marker": {
             "colorbar": {
              "outlinewidth": 0,
              "ticks": ""
             }
            },
            "type": "scatter3d"
           }
          ],
          "scattercarpet": [
           {
            "marker": {
             "colorbar": {
              "outlinewidth": 0,
              "ticks": ""
             }
            },
            "type": "scattercarpet"
           }
          ],
          "scattergeo": [
           {
            "marker": {
             "colorbar": {
              "outlinewidth": 0,
              "ticks": ""
             }
            },
            "type": "scattergeo"
           }
          ],
          "scattergl": [
           {
            "marker": {
             "colorbar": {
              "outlinewidth": 0,
              "ticks": ""
             }
            },
            "type": "scattergl"
           }
          ],
          "scattermapbox": [
           {
            "marker": {
             "colorbar": {
              "outlinewidth": 0,
              "ticks": ""
             }
            },
            "type": "scattermapbox"
           }
          ],
          "scatterpolar": [
           {
            "marker": {
             "colorbar": {
              "outlinewidth": 0,
              "ticks": ""
             }
            },
            "type": "scatterpolar"
           }
          ],
          "scatterpolargl": [
           {
            "marker": {
             "colorbar": {
              "outlinewidth": 0,
              "ticks": ""
             }
            },
            "type": "scatterpolargl"
           }
          ],
          "scatterternary": [
           {
            "marker": {
             "colorbar": {
              "outlinewidth": 0,
              "ticks": ""
             }
            },
            "type": "scatterternary"
           }
          ],
          "surface": [
           {
            "colorbar": {
             "outlinewidth": 0,
             "ticks": ""
            },
            "colorscale": [
             [
              0,
              "#0d0887"
             ],
             [
              0.1111111111111111,
              "#46039f"
             ],
             [
              0.2222222222222222,
              "#7201a8"
             ],
             [
              0.3333333333333333,
              "#9c179e"
             ],
             [
              0.4444444444444444,
              "#bd3786"
             ],
             [
              0.5555555555555556,
              "#d8576b"
             ],
             [
              0.6666666666666666,
              "#ed7953"
             ],
             [
              0.7777777777777778,
              "#fb9f3a"
             ],
             [
              0.8888888888888888,
              "#fdca26"
             ],
             [
              1,
              "#f0f921"
             ]
            ],
            "type": "surface"
           }
          ],
          "table": [
           {
            "cells": {
             "fill": {
              "color": "#EBF0F8"
             },
             "line": {
              "color": "white"
             }
            },
            "header": {
             "fill": {
              "color": "#C8D4E3"
             },
             "line": {
              "color": "white"
             }
            },
            "type": "table"
           }
          ]
         },
         "layout": {
          "annotationdefaults": {
           "arrowcolor": "#2a3f5f",
           "arrowhead": 0,
           "arrowwidth": 1
          },
          "autotypenumbers": "strict",
          "coloraxis": {
           "colorbar": {
            "outlinewidth": 0,
            "ticks": ""
           }
          },
          "colorscale": {
           "diverging": [
            [
             0,
             "#8e0152"
            ],
            [
             0.1,
             "#c51b7d"
            ],
            [
             0.2,
             "#de77ae"
            ],
            [
             0.3,
             "#f1b6da"
            ],
            [
             0.4,
             "#fde0ef"
            ],
            [
             0.5,
             "#f7f7f7"
            ],
            [
             0.6,
             "#e6f5d0"
            ],
            [
             0.7,
             "#b8e186"
            ],
            [
             0.8,
             "#7fbc41"
            ],
            [
             0.9,
             "#4d9221"
            ],
            [
             1,
             "#276419"
            ]
           ],
           "sequential": [
            [
             0,
             "#0d0887"
            ],
            [
             0.1111111111111111,
             "#46039f"
            ],
            [
             0.2222222222222222,
             "#7201a8"
            ],
            [
             0.3333333333333333,
             "#9c179e"
            ],
            [
             0.4444444444444444,
             "#bd3786"
            ],
            [
             0.5555555555555556,
             "#d8576b"
            ],
            [
             0.6666666666666666,
             "#ed7953"
            ],
            [
             0.7777777777777778,
             "#fb9f3a"
            ],
            [
             0.8888888888888888,
             "#fdca26"
            ],
            [
             1,
             "#f0f921"
            ]
           ],
           "sequentialminus": [
            [
             0,
             "#0d0887"
            ],
            [
             0.1111111111111111,
             "#46039f"
            ],
            [
             0.2222222222222222,
             "#7201a8"
            ],
            [
             0.3333333333333333,
             "#9c179e"
            ],
            [
             0.4444444444444444,
             "#bd3786"
            ],
            [
             0.5555555555555556,
             "#d8576b"
            ],
            [
             0.6666666666666666,
             "#ed7953"
            ],
            [
             0.7777777777777778,
             "#fb9f3a"
            ],
            [
             0.8888888888888888,
             "#fdca26"
            ],
            [
             1,
             "#f0f921"
            ]
           ]
          },
          "colorway": [
           "#636efa",
           "#EF553B",
           "#00cc96",
           "#ab63fa",
           "#FFA15A",
           "#19d3f3",
           "#FF6692",
           "#B6E880",
           "#FF97FF",
           "#FECB52"
          ],
          "font": {
           "color": "#2a3f5f"
          },
          "geo": {
           "bgcolor": "white",
           "lakecolor": "white",
           "landcolor": "#E5ECF6",
           "showlakes": true,
           "showland": true,
           "subunitcolor": "white"
          },
          "hoverlabel": {
           "align": "left"
          },
          "hovermode": "closest",
          "mapbox": {
           "style": "light"
          },
          "paper_bgcolor": "white",
          "plot_bgcolor": "#E5ECF6",
          "polar": {
           "angularaxis": {
            "gridcolor": "white",
            "linecolor": "white",
            "ticks": ""
           },
           "bgcolor": "#E5ECF6",
           "radialaxis": {
            "gridcolor": "white",
            "linecolor": "white",
            "ticks": ""
           }
          },
          "scene": {
           "xaxis": {
            "backgroundcolor": "#E5ECF6",
            "gridcolor": "white",
            "gridwidth": 2,
            "linecolor": "white",
            "showbackground": true,
            "ticks": "",
            "zerolinecolor": "white"
           },
           "yaxis": {
            "backgroundcolor": "#E5ECF6",
            "gridcolor": "white",
            "gridwidth": 2,
            "linecolor": "white",
            "showbackground": true,
            "ticks": "",
            "zerolinecolor": "white"
           },
           "zaxis": {
            "backgroundcolor": "#E5ECF6",
            "gridcolor": "white",
            "gridwidth": 2,
            "linecolor": "white",
            "showbackground": true,
            "ticks": "",
            "zerolinecolor": "white"
           }
          },
          "shapedefaults": {
           "line": {
            "color": "#2a3f5f"
           }
          },
          "ternary": {
           "aaxis": {
            "gridcolor": "white",
            "linecolor": "white",
            "ticks": ""
           },
           "baxis": {
            "gridcolor": "white",
            "linecolor": "white",
            "ticks": ""
           },
           "bgcolor": "#E5ECF6",
           "caxis": {
            "gridcolor": "white",
            "linecolor": "white",
            "ticks": ""
           }
          },
          "title": {
           "x": 0.05
          },
          "xaxis": {
           "automargin": true,
           "gridcolor": "white",
           "linecolor": "white",
           "ticks": "",
           "title": {
            "standoff": 15
           },
           "zerolinecolor": "white",
           "zerolinewidth": 2
          },
          "yaxis": {
           "automargin": true,
           "gridcolor": "white",
           "linecolor": "white",
           "ticks": "",
           "title": {
            "standoff": 15
           },
           "zerolinecolor": "white",
           "zerolinewidth": 2
          }
         }
        },
        "xaxis": {
         "anchor": "y",
         "autorange": true,
         "domain": [
          0,
          1
         ],
         "range": [
          -0.5,
          5.5
         ],
         "title": {
          "text": "index"
         },
         "type": "category"
        },
        "yaxis": {
         "anchor": "x",
         "autorange": true,
         "domain": [
          0,
          1
         ],
         "range": [
          0,
          2440
         ],
         "title": {
          "text": "count"
         },
         "type": "linear"
        }
       }
      },
      "image/png": "[encoded data removed]",
      "text/html": [
       "<div>                            <div id=\"55b74a53-8afb-42ce-805b-b5c5dbaadf5a\" class=\"plotly-graph-div\" style=\"height:525px; width:100%;\"></div>            <script type=\"text/javascript\">                require([\"plotly\"], function(Plotly) {                    window.PLOTLYENV=window.PLOTLYENV || {};                                    if (document.getElementById(\"55b74a53-8afb-42ce-805b-b5c5dbaadf5a\")) {                    Plotly.newPlot(                        \"55b74a53-8afb-42ce-805b-b5c5dbaadf5a\",                        [{\"alignmentgroup\":\"True\",\"hovertemplate\":\"index=%{x}<br>count=%{y}<extra></extra>\",\"legendgroup\":\"\",\"marker\":{\"color\":\"#636efa\",\"pattern\":{\"shape\":\"\"}},\"name\":\"\",\"offsetgroup\":\"\",\"orientation\":\"v\",\"showlegend\":false,\"textposition\":\"auto\",\"x\":[\"Embajadores\",\"Universidad\",\"Palacio\",\"Sol\",\"Justicia\",\"Cortes\"],\"xaxis\":\"x\",\"y\":[2318,1869,1506,1125,951,880],\"yaxis\":\"y\",\"type\":\"bar\"}],                        {\"template\":{\"data\":{\"histogram2dcontour\":[{\"type\":\"histogram2dcontour\",\"colorbar\":{\"outlinewidth\":0,\"ticks\":\"\"},\"colorscale\":[[0.0,\"#0d0887\"],[0.1111111111111111,\"#46039f\"],[0.2222222222222222,\"#7201a8\"],[0.3333333333333333,\"#9c179e\"],[0.4444444444444444,\"#bd3786\"],[0.5555555555555556,\"#d8576b\"],[0.6666666666666666,\"#ed7953\"],[0.7777777777777778,\"#fb9f3a\"],[0.8888888888888888,\"#fdca26\"],[1.0,\"#f0f921\"]]}],\"choropleth\":[{\"type\":\"choropleth\",\"colorbar\":{\"outlinewidth\":0,\"ticks\":\"\"}}],\"histogram2d\":[{\"type\":\"histogram2d\",\"colorbar\":{\"outlinewidth\":0,\"ticks\":\"\"},\"colorscale\":[[0.0,\"#0d0887\"],[0.1111111111111111,\"#46039f\"],[0.2222222222222222,\"#7201a8\"],[0.3333333333333333,\"#9c179e\"],[0.4444444444444444,\"#bd3786\"],[0.5555555555555556,\"#d8576b\"],[0.6666666666666666,\"#ed7953\"],[0.7777777777777778,\"#fb9f3a\"],[0.8888888888888888,\"#fdca26\"],[1.0,\"#f0f921\"]]}],\"heatmap\":[{\"type\":\"heatmap\",\"colorbar\":{\"outlinewidth\":0,\"ticks\":\"\"},\"colorscale\":[[0.0,\"#0d0887\"],[0.1111111111111111,\"#46039f\"],[0.2222222222222222,\"#7201a8\"],[0.3333333333333333,\"#9c179e\"],[0.4444444444444444,\"#bd3786\"],[0.5555555555555556,\"#d8576b\"],[0.6666666666666666,\"#ed7953\"],[0.7777777777777778,\"#fb9f3a\"],[0.8888888888888888,\"#fdca26\"],[1.0,\"#f0f921\"]]}],\"heatmapgl\":[{\"type\":\"heatmapgl\",\"colorbar\":{\"outlinewidth\":0,\"ticks\":\"\"},\"colorscale\":[[0.0,\"#0d0887\"],[0.1111111111111111,\"#46039f\"],[0.2222222222222222,\"#7201a8\"],[0.3333333333333333,\"#9c179e\"],[0.4444444444444444,\"#bd3786\"],[0.5555555555555556,\"#d8576b\"],[0.6666666666666666,\"#ed7953\"],[0.7777777777777778,\"#fb9f3a\"],[0.8888888888888888,\"#fdca26\"],[1.0,\"#f0f921\"]]}],\"contourcarpet\":[{\"type\":\"contourcarpet\",\"colorbar\":{\"outlinewidth\":0,\"ticks\":\"\"}}],\"contour\":[{\"type\":\"contour\",\"colorbar\":{\"outlinewidth\":0,\"ticks\":\"\"},\"colorscale\":[[0.0,\"#0d0887\"],[0.1111111111111111,\"#46039f\"],[0.2222222222222222,\"#7201a8\"],[0.3333333333333333,\"#9c179e\"],[0.4444444444444444,\"#bd3786\"],[0.5555555555555556,\"#d8576b\"],[0.6666666666666666,\"#ed7953\"],[0.7777777777777778,\"#fb9f3a\"],[0.8888888888888888,\"#fdca26\"],[1.0,\"#f0f921\"]]}],\"surface\":[{\"type\":\"surface\",\"colorbar\":{\"outlinewidth\":0,\"ticks\":\"\"},\"colorscale\":[[0.0,\"#0d0887\"],[0.1111111111111111,\"#46039f\"],[0.2222222222222222,\"#7201a8\"],[0.3333333333333333,\"#9c179e\"],[0.4444444444444444,\"#bd3786\"],[0.5555555555555556,\"#d8576b\"],[0.6666666666666666,\"#ed7953\"],[0.7777777777777778,\"#fb9f3a\"],[0.8888888888888888,\"#fdca26\"],[1.0,\"#f0f921\"]]}],\"mesh3d\":[{\"type\":\"mesh3d\",\"colorbar\":{\"outlinewidth\":0,\"ticks\":\"\"}}],\"scatter\":[{\"fillpattern\":{\"fillmode\":\"overlay\",\"size\":10,\"solidity\":0.2},\"type\":\"scatter\"}],\"parcoords\":[{\"type\":\"parcoords\",\"line\":{\"colorbar\":{\"outlinewidth\":0,\"ticks\":\"\"}}}],\"scatterpolargl\":[{\"type\":\"scatterpolargl\",\"marker\":{\"colorbar\":{\"outlinewidth\":0,\"ticks\":\"\"}}}],\"bar\":[{\"error_x\":{\"color\":\"#2a3f5f\"},\"error_y\":{\"color\":\"#2a3f5f\"},\"marker\":{\"line\":{\"color\":\"#E5ECF6\",\"width\":0.5},\"pattern\":{\"fillmode\":\"overlay\",\"size\":10,\"solidity\":0.2}},\"type\":\"bar\"}],\"scattergeo\":[{\"type\":\"scattergeo\",\"marker\":{\"colorbar\":{\"outlinewidth\":0,\"ticks\":\"\"}}}],\"scatterpolar\":[{\"type\":\"scatterpolar\",\"marker\":{\"colorbar\":{\"outlinewidth\":0,\"ticks\":\"\"}}}],\"histogram\":[{\"marker\":{\"pattern\":{\"fillmode\":\"overlay\",\"size\":10,\"solidity\":0.2}},\"type\":\"histogram\"}],\"scattergl\":[{\"type\":\"scattergl\",\"marker\":{\"colorbar\":{\"outlinewidth\":0,\"ticks\":\"\"}}}],\"scatter3d\":[{\"type\":\"scatter3d\",\"line\":{\"colorbar\":{\"outlinewidth\":0,\"ticks\":\"\"}},\"marker\":{\"colorbar\":{\"outlinewidth\":0,\"ticks\":\"\"}}}],\"scattermapbox\":[{\"type\":\"scattermapbox\",\"marker\":{\"colorbar\":{\"outlinewidth\":0,\"ticks\":\"\"}}}],\"scatterternary\":[{\"type\":\"scatterternary\",\"marker\":{\"colorbar\":{\"outlinewidth\":0,\"ticks\":\"\"}}}],\"scattercarpet\":[{\"type\":\"scattercarpet\",\"marker\":{\"colorbar\":{\"outlinewidth\":0,\"ticks\":\"\"}}}],\"carpet\":[{\"aaxis\":{\"endlinecolor\":\"#2a3f5f\",\"gridcolor\":\"white\",\"linecolor\":\"white\",\"minorgridcolor\":\"white\",\"startlinecolor\":\"#2a3f5f\"},\"baxis\":{\"endlinecolor\":\"#2a3f5f\",\"gridcolor\":\"white\",\"linecolor\":\"white\",\"minorgridcolor\":\"white\",\"startlinecolor\":\"#2a3f5f\"},\"type\":\"carpet\"}],\"table\":[{\"cells\":{\"fill\":{\"color\":\"#EBF0F8\"},\"line\":{\"color\":\"white\"}},\"header\":{\"fill\":{\"color\":\"#C8D4E3\"},\"line\":{\"color\":\"white\"}},\"type\":\"table\"}],\"barpolar\":[{\"marker\":{\"line\":{\"color\":\"#E5ECF6\",\"width\":0.5},\"pattern\":{\"fillmode\":\"overlay\",\"size\":10,\"solidity\":0.2}},\"type\":\"barpolar\"}],\"pie\":[{\"automargin\":true,\"type\":\"pie\"}]},\"layout\":{\"autotypenumbers\":\"strict\",\"colorway\":[\"#636efa\",\"#EF553B\",\"#00cc96\",\"#ab63fa\",\"#FFA15A\",\"#19d3f3\",\"#FF6692\",\"#B6E880\",\"#FF97FF\",\"#FECB52\"],\"font\":{\"color\":\"#2a3f5f\"},\"hovermode\":\"closest\",\"hoverlabel\":{\"align\":\"left\"},\"paper_bgcolor\":\"white\",\"plot_bgcolor\":\"#E5ECF6\",\"polar\":{\"bgcolor\":\"#E5ECF6\",\"angularaxis\":{\"gridcolor\":\"white\",\"linecolor\":\"white\",\"ticks\":\"\"},\"radialaxis\":{\"gridcolor\":\"white\",\"linecolor\":\"white\",\"ticks\":\"\"}},\"ternary\":{\"bgcolor\":\"#E5ECF6\",\"aaxis\":{\"gridcolor\":\"white\",\"linecolor\":\"white\",\"ticks\":\"\"},\"baxis\":{\"gridcolor\":\"white\",\"linecolor\":\"white\",\"ticks\":\"\"},\"caxis\":{\"gridcolor\":\"white\",\"linecolor\":\"white\",\"ticks\":\"\"}},\"coloraxis\":{\"colorbar\":{\"outlinewidth\":0,\"ticks\":\"\"}},\"colorscale\":{\"sequential\":[[0.0,\"#0d0887\"],[0.1111111111111111,\"#46039f\"],[0.2222222222222222,\"#7201a8\"],[0.3333333333333333,\"#9c179e\"],[0.4444444444444444,\"#bd3786\"],[0.5555555555555556,\"#d8576b\"],[0.6666666666666666,\"#ed7953\"],[0.7777777777777778,\"#fb9f3a\"],[0.8888888888888888,\"#fdca26\"],[1.0,\"#f0f921\"]],\"sequentialminus\":[[0.0,\"#0d0887\"],[0.1111111111111111,\"#46039f\"],[0.2222222222222222,\"#7201a8\"],[0.3333333333333333,\"#9c179e\"],[0.4444444444444444,\"#bd3786\"],[0.5555555555555556,\"#d8576b\"],[0.6666666666666666,\"#ed7953\"],[0.7777777777777778,\"#fb9f3a\"],[0.8888888888888888,\"#fdca26\"],[1.0,\"#f0f921\"]],\"diverging\":[[0,\"#8e0152\"],[0.1,\"#c51b7d\"],[0.2,\"#de77ae\"],[0.3,\"#f1b6da\"],[0.4,\"#fde0ef\"],[0.5,\"#f7f7f7\"],[0.6,\"#e6f5d0\"],[0.7,\"#b8e186\"],[0.8,\"#7fbc41\"],[0.9,\"#4d9221\"],[1,\"#276419\"]]},\"xaxis\":{\"gridcolor\":\"white\",\"linecolor\":\"white\",\"ticks\":\"\",\"title\":{\"standoff\":15},\"zerolinecolor\":\"white\",\"automargin\":true,\"zerolinewidth\":2},\"yaxis\":{\"gridcolor\":\"white\",\"linecolor\":\"white\",\"ticks\":\"\",\"title\":{\"standoff\":15},\"zerolinecolor\":\"white\",\"automargin\":true,\"zerolinewidth\":2},\"scene\":{\"xaxis\":{\"backgroundcolor\":\"#E5ECF6\",\"gridcolor\":\"white\",\"linecolor\":\"white\",\"showbackground\":true,\"ticks\":\"\",\"zerolinecolor\":\"white\",\"gridwidth\":2},\"yaxis\":{\"backgroundcolor\":\"#E5ECF6\",\"gridcolor\":\"white\",\"linecolor\":\"white\",\"showbackground\":true,\"ticks\":\"\",\"zerolinecolor\":\"white\",\"gridwidth\":2},\"zaxis\":{\"backgroundcolor\":\"#E5ECF6\",\"gridcolor\":\"white\",\"linecolor\":\"white\",\"showbackground\":true,\"ticks\":\"\",\"zerolinecolor\":\"white\",\"gridwidth\":2}},\"shapedefaults\":{\"line\":{\"color\":\"#2a3f5f\"}},\"annotationdefaults\":{\"arrowcolor\":\"#2a3f5f\",\"arrowhead\":0,\"arrowwidth\":1},\"geo\":{\"bgcolor\":\"white\",\"landcolor\":\"#E5ECF6\",\"subunitcolor\":\"white\",\"showland\":true,\"showlakes\":true,\"lakecolor\":\"white\"},\"title\":{\"x\":0.05},\"mapbox\":{\"style\":\"light\"}}},\"xaxis\":{\"anchor\":\"y\",\"domain\":[0.0,1.0],\"title\":{\"text\":\"index\"}},\"yaxis\":{\"anchor\":\"x\",\"domain\":[0.0,1.0],\"title\":{\"text\":\"count\"}},\"legend\":{\"tracegroupgap\":0},\"margin\":{\"t\":60},\"barmode\":\"relative\"},                        {\"responsive\": true}                    ).then(function(){\n",
       "                            \n",
       "var gd = document.getElementById('55b74a53-8afb-42ce-805b-b5c5dbaadf5a');\n",
       "var x = new MutationObserver(function (mutations, observer) {{\n",
       "        var display = window.getComputedStyle(gd).display;\n",
       "        if (!display || display === 'none') {{\n",
       "            console.log([gd, 'removed!']);\n",
       "            Plotly.purge(gd);\n",
       "            observer.disconnect();\n",
       "        }}\n",
       "}});\n",
       "\n",
       "// Listen for the removal of the full notebook cells\n",
       "var notebookContainer = gd.closest('#notebook-container');\n",
       "if (notebookContainer) {{\n",
       "    x.observe(notebookContainer, {childList: true});\n",
       "}}\n",
       "\n",
       "// Listen for the clearing of the current output cell\n",
       "var outputEl = gd.closest('.output');\n",
       "if (outputEl) {{\n",
       "    x.observe(outputEl, {childList: true});\n",
       "}}\n",
       "\n",
       "                        })                };                });            </script>        </div>"
      ]
     },
     "metadata": {},
     "output_type": "display_data"
    }
   ],
   "source": [
    "\n",
    "fig = px.bar((datos_centro['neighbourhood'].value_counts()).to_frame(name=\"count\"), y=\"count\")\n",
    "fig.show()"
   ]
  },
  {
   "cell_type": "code",
   "execution_count": 69,
   "id": "a01ec80d-6ea3-41f6-a191-ec768ad2e8b7",
   "metadata": {},
   "outputs": [
    {
     "data": {
      "text/html": [
       "<div>\n",
       "<style scoped>\n",
       "    .dataframe tbody tr th:only-of-type {\n",
       "        vertical-align: middle;\n",
       "    }\n",
       "\n",
       "    .dataframe tbody tr th {\n",
       "        vertical-align: top;\n",
       "    }\n",
       "\n",
       "    .dataframe thead th {\n",
       "        text-align: right;\n",
       "    }\n",
       "</style>\n",
       "<table border=\"1\" class=\"dataframe\">\n",
       "  <thead>\n",
       "    <tr style=\"text-align: right;\">\n",
       "      <th></th>\n",
       "      <th>id</th>\n",
       "      <th>name</th>\n",
       "      <th>host_id</th>\n",
       "      <th>host_name</th>\n",
       "      <th>neighbourhood_group</th>\n",
       "      <th>neighbourhood</th>\n",
       "      <th>latitude</th>\n",
       "      <th>longitude</th>\n",
       "      <th>room_type</th>\n",
       "      <th>price</th>\n",
       "      <th>minimum_nights</th>\n",
       "      <th>number_of_reviews</th>\n",
       "      <th>last_review</th>\n",
       "      <th>reviews_per_month</th>\n",
       "      <th>calculated_host_listings_count</th>\n",
       "      <th>availability_365</th>\n",
       "    </tr>\n",
       "  </thead>\n",
       "  <tbody>\n",
       "    <tr>\n",
       "      <th>139</th>\n",
       "      <td>479718</td>\n",
       "      <td>Wanda Stadium. Madrid. 20 minutes from Sol by ...</td>\n",
       "      <td>2376402</td>\n",
       "      <td>Jesús</td>\n",
       "      <td>San Blas - Canillejas</td>\n",
       "      <td>Rosas</td>\n",
       "      <td>40.43202</td>\n",
       "      <td>-3.60353</td>\n",
       "      <td>Private room</td>\n",
       "      <td>76</td>\n",
       "      <td>3</td>\n",
       "      <td>14</td>\n",
       "      <td>2017-01-02</td>\n",
       "      <td>0.13</td>\n",
       "      <td>1</td>\n",
       "      <td>363</td>\n",
       "    </tr>\n",
       "    <tr>\n",
       "      <th>151</th>\n",
       "      <td>515008</td>\n",
       "      <td>BIG BED &amp; VERY NICE ROOM YELLOW.</td>\n",
       "      <td>2536524</td>\n",
       "      <td>Marina</td>\n",
       "      <td>San Blas - Canillejas</td>\n",
       "      <td>Arcos</td>\n",
       "      <td>40.42297</td>\n",
       "      <td>-3.61193</td>\n",
       "      <td>Private room</td>\n",
       "      <td>17</td>\n",
       "      <td>10</td>\n",
       "      <td>23</td>\n",
       "      <td>2021-04-10</td>\n",
       "      <td>0.22</td>\n",
       "      <td>4</td>\n",
       "      <td>319</td>\n",
       "    </tr>\n",
       "    <tr>\n",
       "      <th>153</th>\n",
       "      <td>518208</td>\n",
       "      <td>BIG BED &amp; VERY NICE ORANGE ROOM.</td>\n",
       "      <td>2536524</td>\n",
       "      <td>Marina</td>\n",
       "      <td>San Blas - Canillejas</td>\n",
       "      <td>Arcos</td>\n",
       "      <td>40.42756</td>\n",
       "      <td>-3.61577</td>\n",
       "      <td>Private room</td>\n",
       "      <td>21</td>\n",
       "      <td>10</td>\n",
       "      <td>18</td>\n",
       "      <td>2019-12-31</td>\n",
       "      <td>0.18</td>\n",
       "      <td>4</td>\n",
       "      <td>349</td>\n",
       "    </tr>\n",
       "    <tr>\n",
       "      <th>259</th>\n",
       "      <td>755535</td>\n",
       "      <td>SINGLE BED &amp; VERY NICE GREEN ROOM.</td>\n",
       "      <td>2536524</td>\n",
       "      <td>Marina</td>\n",
       "      <td>San Blas - Canillejas</td>\n",
       "      <td>Arcos</td>\n",
       "      <td>40.42761</td>\n",
       "      <td>-3.61580</td>\n",
       "      <td>Private room</td>\n",
       "      <td>21</td>\n",
       "      <td>10</td>\n",
       "      <td>16</td>\n",
       "      <td>2019-10-10</td>\n",
       "      <td>0.17</td>\n",
       "      <td>4</td>\n",
       "      <td>349</td>\n",
       "    </tr>\n",
       "    <tr>\n",
       "      <th>264</th>\n",
       "      <td>761095</td>\n",
       "      <td>Compostela Suites Madrid Airport / 2BD</td>\n",
       "      <td>4012305</td>\n",
       "      <td>Compostela</td>\n",
       "      <td>San Blas - Canillejas</td>\n",
       "      <td>Rejas</td>\n",
       "      <td>40.44791</td>\n",
       "      <td>-3.57918</td>\n",
       "      <td>Entire home/apt</td>\n",
       "      <td>85</td>\n",
       "      <td>1</td>\n",
       "      <td>36</td>\n",
       "      <td>2018-03-04</td>\n",
       "      <td>0.40</td>\n",
       "      <td>3</td>\n",
       "      <td>365</td>\n",
       "    </tr>\n",
       "    <tr>\n",
       "      <th>...</th>\n",
       "      <td>...</td>\n",
       "      <td>...</td>\n",
       "      <td>...</td>\n",
       "      <td>...</td>\n",
       "      <td>...</td>\n",
       "      <td>...</td>\n",
       "      <td>...</td>\n",
       "      <td>...</td>\n",
       "      <td>...</td>\n",
       "      <td>...</td>\n",
       "      <td>...</td>\n",
       "      <td>...</td>\n",
       "      <td>...</td>\n",
       "      <td>...</td>\n",
       "      <td>...</td>\n",
       "      <td>...</td>\n",
       "    </tr>\n",
       "    <tr>\n",
       "      <th>19127</th>\n",
       "      <td>48283680</td>\n",
       "      <td>Piso tranquilidad y comodidad</td>\n",
       "      <td>293239325</td>\n",
       "      <td>Nathaly</td>\n",
       "      <td>San Blas - Canillejas</td>\n",
       "      <td>Arcos</td>\n",
       "      <td>40.42312</td>\n",
       "      <td>-3.62157</td>\n",
       "      <td>Entire home/apt</td>\n",
       "      <td>45</td>\n",
       "      <td>30</td>\n",
       "      <td>0</td>\n",
       "      <td>No Reviews</td>\n",
       "      <td>0.00</td>\n",
       "      <td>3</td>\n",
       "      <td>358</td>\n",
       "    </tr>\n",
       "    <tr>\n",
       "      <th>19222</th>\n",
       "      <td>48435579</td>\n",
       "      <td>Habitación de hotel exterior con baño privado</td>\n",
       "      <td>156870128</td>\n",
       "      <td>Hotel Ganivet</td>\n",
       "      <td>San Blas - Canillejas</td>\n",
       "      <td>Arcos</td>\n",
       "      <td>40.41968</td>\n",
       "      <td>-3.62436</td>\n",
       "      <td>Private room</td>\n",
       "      <td>35</td>\n",
       "      <td>7</td>\n",
       "      <td>1</td>\n",
       "      <td>2021-03-28</td>\n",
       "      <td>1.00</td>\n",
       "      <td>3</td>\n",
       "      <td>180</td>\n",
       "    </tr>\n",
       "    <tr>\n",
       "      <th>19247</th>\n",
       "      <td>48527665</td>\n",
       "      <td>Wanda, Aeropuerto, 2 baños 2 dormitorios</td>\n",
       "      <td>51573045</td>\n",
       "      <td>Guz</td>\n",
       "      <td>San Blas - Canillejas</td>\n",
       "      <td>Rejas</td>\n",
       "      <td>40.44813</td>\n",
       "      <td>-3.59877</td>\n",
       "      <td>Entire home/apt</td>\n",
       "      <td>100</td>\n",
       "      <td>1</td>\n",
       "      <td>0</td>\n",
       "      <td>No Reviews</td>\n",
       "      <td>0.00</td>\n",
       "      <td>2</td>\n",
       "      <td>179</td>\n",
       "    </tr>\n",
       "    <tr>\n",
       "      <th>19263</th>\n",
       "      <td>48567195</td>\n",
       "      <td>Aeropuerto, 🛬🛫Wanda 🏟</td>\n",
       "      <td>51573045</td>\n",
       "      <td>Guz</td>\n",
       "      <td>San Blas - Canillejas</td>\n",
       "      <td>Rejas</td>\n",
       "      <td>40.44617</td>\n",
       "      <td>-3.59952</td>\n",
       "      <td>Entire home/apt</td>\n",
       "      <td>100</td>\n",
       "      <td>1</td>\n",
       "      <td>0</td>\n",
       "      <td>No Reviews</td>\n",
       "      <td>0.00</td>\n",
       "      <td>2</td>\n",
       "      <td>180</td>\n",
       "    </tr>\n",
       "    <tr>\n",
       "      <th>19386</th>\n",
       "      <td>48819682</td>\n",
       "      <td>Habitación grande</td>\n",
       "      <td>278138473</td>\n",
       "      <td>Aura</td>\n",
       "      <td>San Blas - Canillejas</td>\n",
       "      <td>Rosas</td>\n",
       "      <td>40.42682</td>\n",
       "      <td>-3.60165</td>\n",
       "      <td>Private room</td>\n",
       "      <td>18</td>\n",
       "      <td>1</td>\n",
       "      <td>0</td>\n",
       "      <td>No Reviews</td>\n",
       "      <td>0.00</td>\n",
       "      <td>1</td>\n",
       "      <td>365</td>\n",
       "    </tr>\n",
       "  </tbody>\n",
       "</table>\n",
       "<p>497 rows × 16 columns</p>\n",
       "</div>"
      ],
      "text/plain": [
       "             id                                               name    host_id  \\\n",
       "139      479718  Wanda Stadium. Madrid. 20 minutes from Sol by ...    2376402   \n",
       "151      515008                   BIG BED & VERY NICE ROOM YELLOW.    2536524   \n",
       "153      518208                   BIG BED & VERY NICE ORANGE ROOM.    2536524   \n",
       "259      755535                 SINGLE BED & VERY NICE GREEN ROOM.    2536524   \n",
       "264      761095             Compostela Suites Madrid Airport / 2BD    4012305   \n",
       "...         ...                                                ...        ...   \n",
       "19127  48283680                      Piso tranquilidad y comodidad  293239325   \n",
       "19222  48435579      Habitación de hotel exterior con baño privado  156870128   \n",
       "19247  48527665           Wanda, Aeropuerto, 2 baños 2 dormitorios   51573045   \n",
       "19263  48567195                              Aeropuerto, 🛬🛫Wanda 🏟   51573045   \n",
       "19386  48819682                                  Habitación grande  278138473   \n",
       "\n",
       "           host_name    neighbourhood_group neighbourhood  latitude  \\\n",
       "139            Jesús  San Blas - Canillejas         Rosas  40.43202   \n",
       "151           Marina  San Blas - Canillejas         Arcos  40.42297   \n",
       "153           Marina  San Blas - Canillejas         Arcos  40.42756   \n",
       "259           Marina  San Blas - Canillejas         Arcos  40.42761   \n",
       "264       Compostela  San Blas - Canillejas         Rejas  40.44791   \n",
       "...              ...                    ...           ...       ...   \n",
       "19127        Nathaly  San Blas - Canillejas         Arcos  40.42312   \n",
       "19222  Hotel Ganivet  San Blas - Canillejas         Arcos  40.41968   \n",
       "19247            Guz  San Blas - Canillejas         Rejas  40.44813   \n",
       "19263            Guz  San Blas - Canillejas         Rejas  40.44617   \n",
       "19386           Aura  San Blas - Canillejas         Rosas  40.42682   \n",
       "\n",
       "       longitude        room_type  price  minimum_nights  number_of_reviews  \\\n",
       "139     -3.60353     Private room     76               3                 14   \n",
       "151     -3.61193     Private room     17              10                 23   \n",
       "153     -3.61577     Private room     21              10                 18   \n",
       "259     -3.61580     Private room     21              10                 16   \n",
       "264     -3.57918  Entire home/apt     85               1                 36   \n",
       "...          ...              ...    ...             ...                ...   \n",
       "19127   -3.62157  Entire home/apt     45              30                  0   \n",
       "19222   -3.62436     Private room     35               7                  1   \n",
       "19247   -3.59877  Entire home/apt    100               1                  0   \n",
       "19263   -3.59952  Entire home/apt    100               1                  0   \n",
       "19386   -3.60165     Private room     18               1                  0   \n",
       "\n",
       "      last_review  reviews_per_month  calculated_host_listings_count  \\\n",
       "139    2017-01-02               0.13                               1   \n",
       "151    2021-04-10               0.22                               4   \n",
       "153    2019-12-31               0.18                               4   \n",
       "259    2019-10-10               0.17                               4   \n",
       "264    2018-03-04               0.40                               3   \n",
       "...           ...                ...                             ...   \n",
       "19127  No Reviews               0.00                               3   \n",
       "19222  2021-03-28               1.00                               3   \n",
       "19247  No Reviews               0.00                               2   \n",
       "19263  No Reviews               0.00                               2   \n",
       "19386  No Reviews               0.00                               1   \n",
       "\n",
       "       availability_365  \n",
       "139                 363  \n",
       "151                 319  \n",
       "153                 349  \n",
       "259                 349  \n",
       "264                 365  \n",
       "...                 ...  \n",
       "19127               358  \n",
       "19222               180  \n",
       "19247               179  \n",
       "19263               180  \n",
       "19386               365  \n",
       "\n",
       "[497 rows x 16 columns]"
      ]
     },
     "metadata": {},
     "output_type": "display_data"
    }
   ],
   "source": [
    "\n",
    "datos_sanblas = df[df[\"neighbourhood_group\"].str.contains(\"San Blas - Canillejas\")]\n",
    "display(datos_sanblas)"
   ]
  },
  {
   "cell_type": "code",
   "execution_count": 72,
   "id": "b7e5f525-1cfd-425a-aa91-582c532b2e86",
   "metadata": {
    "tags": []
   },
   "outputs": [
    {
     "data": {
      "text/plain": [
       "(497, 16)"
      ]
     },
     "execution_count": 72,
     "metadata": {},
     "output_type": "execute_result"
    }
   ],
   "source": [
    "datos_sanblas.shape"
   ]
  },
  {
   "cell_type": "code",
   "execution_count": 71,
   "id": "4557289f-f7ae-4f8d-961e-61584c59989f",
   "metadata": {},
   "outputs": [
    {
     "data": {
      "text/html": [
       "<div>\n",
       "<style scoped>\n",
       "    .dataframe tbody tr th:only-of-type {\n",
       "        vertical-align: middle;\n",
       "    }\n",
       "\n",
       "    .dataframe tbody tr th {\n",
       "        vertical-align: top;\n",
       "    }\n",
       "\n",
       "    .dataframe thead th {\n",
       "        text-align: right;\n",
       "    }\n",
       "</style>\n",
       "<table border=\"1\" class=\"dataframe\">\n",
       "  <thead>\n",
       "    <tr style=\"text-align: right;\">\n",
       "      <th></th>\n",
       "      <th>id</th>\n",
       "      <th>name</th>\n",
       "      <th>host_id</th>\n",
       "      <th>host_name</th>\n",
       "      <th>neighbourhood_group</th>\n",
       "      <th>neighbourhood</th>\n",
       "      <th>latitude</th>\n",
       "      <th>longitude</th>\n",
       "      <th>room_type</th>\n",
       "      <th>price</th>\n",
       "      <th>minimum_nights</th>\n",
       "      <th>number_of_reviews</th>\n",
       "      <th>last_review</th>\n",
       "      <th>reviews_per_month</th>\n",
       "      <th>calculated_host_listings_count</th>\n",
       "      <th>availability_365</th>\n",
       "    </tr>\n",
       "  </thead>\n",
       "  <tbody>\n",
       "    <tr>\n",
       "      <th>5197</th>\n",
       "      <td>19399353</td>\n",
       "      <td>Ubicación ideal para la final de la Champions!</td>\n",
       "      <td>7085494</td>\n",
       "      <td>Aldana</td>\n",
       "      <td>San Blas - Canillejas</td>\n",
       "      <td>Simancas</td>\n",
       "      <td>40.43036</td>\n",
       "      <td>-3.62729</td>\n",
       "      <td>Private room</td>\n",
       "      <td>30</td>\n",
       "      <td>1</td>\n",
       "      <td>0</td>\n",
       "      <td>No Reviews</td>\n",
       "      <td>0.00</td>\n",
       "      <td>1</td>\n",
       "      <td>180</td>\n",
       "    </tr>\n",
       "    <tr>\n",
       "      <th>9461</th>\n",
       "      <td>30915191</td>\n",
       "      <td>Habitacion 10 minutos Wanda Final de Champions.</td>\n",
       "      <td>202040560</td>\n",
       "      <td>Hector</td>\n",
       "      <td>San Blas - Canillejas</td>\n",
       "      <td>Arcos</td>\n",
       "      <td>40.42080</td>\n",
       "      <td>-3.61378</td>\n",
       "      <td>Private room</td>\n",
       "      <td>714</td>\n",
       "      <td>1</td>\n",
       "      <td>0</td>\n",
       "      <td>No Reviews</td>\n",
       "      <td>0.00</td>\n",
       "      <td>1</td>\n",
       "      <td>365</td>\n",
       "    </tr>\n",
       "    <tr>\n",
       "      <th>10249</th>\n",
       "      <td>33149188</td>\n",
       "      <td>Room  close to WANDA STADIUM +B&amp;B Final Champions</td>\n",
       "      <td>159471714</td>\n",
       "      <td>Sam</td>\n",
       "      <td>San Blas - Canillejas</td>\n",
       "      <td>Canillejas</td>\n",
       "      <td>40.44054</td>\n",
       "      <td>-3.60383</td>\n",
       "      <td>Private room</td>\n",
       "      <td>300</td>\n",
       "      <td>1</td>\n",
       "      <td>1</td>\n",
       "      <td>2019-03-25</td>\n",
       "      <td>0.04</td>\n",
       "      <td>2</td>\n",
       "      <td>0</td>\n",
       "    </tr>\n",
       "    <tr>\n",
       "      <th>10347</th>\n",
       "      <td>33460925</td>\n",
       "      <td>Lista para la Champion precioso piso con habitaci</td>\n",
       "      <td>252092964</td>\n",
       "      <td>Mirella</td>\n",
       "      <td>San Blas - Canillejas</td>\n",
       "      <td>Simancas</td>\n",
       "      <td>40.43430</td>\n",
       "      <td>-3.61773</td>\n",
       "      <td>Private room</td>\n",
       "      <td>500</td>\n",
       "      <td>5</td>\n",
       "      <td>1</td>\n",
       "      <td>2019-04-15</td>\n",
       "      <td>0.04</td>\n",
       "      <td>1</td>\n",
       "      <td>91</td>\n",
       "    </tr>\n",
       "    <tr>\n",
       "      <th>10426</th>\n",
       "      <td>33687193</td>\n",
       "      <td>Room nearby Wanda. Champions Final</td>\n",
       "      <td>163782415</td>\n",
       "      <td>Sandra</td>\n",
       "      <td>San Blas - Canillejas</td>\n",
       "      <td>Simancas</td>\n",
       "      <td>40.43215</td>\n",
       "      <td>-3.62403</td>\n",
       "      <td>Private room</td>\n",
       "      <td>635</td>\n",
       "      <td>1</td>\n",
       "      <td>0</td>\n",
       "      <td>No Reviews</td>\n",
       "      <td>0.00</td>\n",
       "      <td>1</td>\n",
       "      <td>365</td>\n",
       "    </tr>\n",
       "    <tr>\n",
       "      <th>...</th>\n",
       "      <td>...</td>\n",
       "      <td>...</td>\n",
       "      <td>...</td>\n",
       "      <td>...</td>\n",
       "      <td>...</td>\n",
       "      <td>...</td>\n",
       "      <td>...</td>\n",
       "      <td>...</td>\n",
       "      <td>...</td>\n",
       "      <td>...</td>\n",
       "      <td>...</td>\n",
       "      <td>...</td>\n",
       "      <td>...</td>\n",
       "      <td>...</td>\n",
       "      <td>...</td>\n",
       "      <td>...</td>\n",
       "    </tr>\n",
       "    <tr>\n",
       "      <th>12041</th>\n",
       "      <td>35226051</td>\n",
       "      <td>ideal final de champions</td>\n",
       "      <td>265226139</td>\n",
       "      <td>Oscar</td>\n",
       "      <td>San Blas - Canillejas</td>\n",
       "      <td>Hellín</td>\n",
       "      <td>40.43250</td>\n",
       "      <td>-3.61792</td>\n",
       "      <td>Entire home/apt</td>\n",
       "      <td>1000</td>\n",
       "      <td>1</td>\n",
       "      <td>0</td>\n",
       "      <td>No Reviews</td>\n",
       "      <td>0.00</td>\n",
       "      <td>1</td>\n",
       "      <td>364</td>\n",
       "    </tr>\n",
       "    <tr>\n",
       "      <th>12087</th>\n",
       "      <td>35251141</td>\n",
       "      <td>Se alquila para final de la champion league</td>\n",
       "      <td>265376740</td>\n",
       "      <td>Adrian</td>\n",
       "      <td>San Blas - Canillejas</td>\n",
       "      <td>Canillejas</td>\n",
       "      <td>40.44292</td>\n",
       "      <td>-3.60764</td>\n",
       "      <td>Entire home/apt</td>\n",
       "      <td>3000</td>\n",
       "      <td>1</td>\n",
       "      <td>0</td>\n",
       "      <td>No Reviews</td>\n",
       "      <td>0.00</td>\n",
       "      <td>1</td>\n",
       "      <td>365</td>\n",
       "    </tr>\n",
       "    <tr>\n",
       "      <th>12095</th>\n",
       "      <td>35255090</td>\n",
       "      <td>Habitación perfecta para Champions Ligue</td>\n",
       "      <td>265414393</td>\n",
       "      <td>Ana Beatriz</td>\n",
       "      <td>San Blas - Canillejas</td>\n",
       "      <td>Arcos</td>\n",
       "      <td>40.42003</td>\n",
       "      <td>-3.61274</td>\n",
       "      <td>Private room</td>\n",
       "      <td>1900</td>\n",
       "      <td>1</td>\n",
       "      <td>0</td>\n",
       "      <td>No Reviews</td>\n",
       "      <td>0.00</td>\n",
       "      <td>2</td>\n",
       "      <td>179</td>\n",
       "    </tr>\n",
       "    <tr>\n",
       "      <th>12099</th>\n",
       "      <td>35256477</td>\n",
       "      <td>Final Champions League Room</td>\n",
       "      <td>264259456</td>\n",
       "      <td>Gladys Esperanza</td>\n",
       "      <td>San Blas - Canillejas</td>\n",
       "      <td>Rosas</td>\n",
       "      <td>40.43492</td>\n",
       "      <td>-3.60853</td>\n",
       "      <td>Private room</td>\n",
       "      <td>300</td>\n",
       "      <td>1</td>\n",
       "      <td>0</td>\n",
       "      <td>No Reviews</td>\n",
       "      <td>0.00</td>\n",
       "      <td>3</td>\n",
       "      <td>91</td>\n",
       "    </tr>\n",
       "    <tr>\n",
       "      <th>12101</th>\n",
       "      <td>35256784</td>\n",
       "      <td>Final Champions League Room</td>\n",
       "      <td>264259456</td>\n",
       "      <td>Gladys Esperanza</td>\n",
       "      <td>San Blas - Canillejas</td>\n",
       "      <td>Canillejas</td>\n",
       "      <td>40.43699</td>\n",
       "      <td>-3.60813</td>\n",
       "      <td>Private room</td>\n",
       "      <td>300</td>\n",
       "      <td>1</td>\n",
       "      <td>0</td>\n",
       "      <td>No Reviews</td>\n",
       "      <td>0.00</td>\n",
       "      <td>3</td>\n",
       "      <td>91</td>\n",
       "    </tr>\n",
       "  </tbody>\n",
       "</table>\n",
       "<p>84 rows × 16 columns</p>\n",
       "</div>"
      ],
      "text/plain": [
       "             id                                               name    host_id  \\\n",
       "5197   19399353     Ubicación ideal para la final de la Champions!    7085494   \n",
       "9461   30915191    Habitacion 10 minutos Wanda Final de Champions.  202040560   \n",
       "10249  33149188  Room  close to WANDA STADIUM +B&B Final Champions  159471714   \n",
       "10347  33460925  Lista para la Champion precioso piso con habitaci  252092964   \n",
       "10426  33687193                 Room nearby Wanda. Champions Final  163782415   \n",
       "...         ...                                                ...        ...   \n",
       "12041  35226051                           ideal final de champions  265226139   \n",
       "12087  35251141        Se alquila para final de la champion league  265376740   \n",
       "12095  35255090           Habitación perfecta para Champions Ligue  265414393   \n",
       "12099  35256477                        Final Champions League Room  264259456   \n",
       "12101  35256784                        Final Champions League Room  264259456   \n",
       "\n",
       "              host_name    neighbourhood_group neighbourhood  latitude  \\\n",
       "5197             Aldana  San Blas - Canillejas      Simancas  40.43036   \n",
       "9461             Hector  San Blas - Canillejas         Arcos  40.42080   \n",
       "10249               Sam  San Blas - Canillejas    Canillejas  40.44054   \n",
       "10347           Mirella  San Blas - Canillejas      Simancas  40.43430   \n",
       "10426            Sandra  San Blas - Canillejas      Simancas  40.43215   \n",
       "...                 ...                    ...           ...       ...   \n",
       "12041             Oscar  San Blas - Canillejas        Hellín  40.43250   \n",
       "12087            Adrian  San Blas - Canillejas    Canillejas  40.44292   \n",
       "12095       Ana Beatriz  San Blas - Canillejas         Arcos  40.42003   \n",
       "12099  Gladys Esperanza  San Blas - Canillejas         Rosas  40.43492   \n",
       "12101  Gladys Esperanza  San Blas - Canillejas    Canillejas  40.43699   \n",
       "\n",
       "       longitude        room_type  price  minimum_nights  number_of_reviews  \\\n",
       "5197    -3.62729     Private room     30               1                  0   \n",
       "9461    -3.61378     Private room    714               1                  0   \n",
       "10249   -3.60383     Private room    300               1                  1   \n",
       "10347   -3.61773     Private room    500               5                  1   \n",
       "10426   -3.62403     Private room    635               1                  0   \n",
       "...          ...              ...    ...             ...                ...   \n",
       "12041   -3.61792  Entire home/apt   1000               1                  0   \n",
       "12087   -3.60764  Entire home/apt   3000               1                  0   \n",
       "12095   -3.61274     Private room   1900               1                  0   \n",
       "12099   -3.60853     Private room    300               1                  0   \n",
       "12101   -3.60813     Private room    300               1                  0   \n",
       "\n",
       "      last_review  reviews_per_month  calculated_host_listings_count  \\\n",
       "5197   No Reviews               0.00                               1   \n",
       "9461   No Reviews               0.00                               1   \n",
       "10249  2019-03-25               0.04                               2   \n",
       "10347  2019-04-15               0.04                               1   \n",
       "10426  No Reviews               0.00                               1   \n",
       "...           ...                ...                             ...   \n",
       "12041  No Reviews               0.00                               1   \n",
       "12087  No Reviews               0.00                               1   \n",
       "12095  No Reviews               0.00                               2   \n",
       "12099  No Reviews               0.00                               3   \n",
       "12101  No Reviews               0.00                               3   \n",
       "\n",
       "       availability_365  \n",
       "5197                180  \n",
       "9461                365  \n",
       "10249                 0  \n",
       "10347                91  \n",
       "10426               365  \n",
       "...                 ...  \n",
       "12041               364  \n",
       "12087               365  \n",
       "12095               179  \n",
       "12099                91  \n",
       "12101                91  \n",
       "\n",
       "[84 rows x 16 columns]"
      ]
     },
     "metadata": {},
     "output_type": "display_data"
    }
   ],
   "source": [
    "datos_champions = datos_sanblas[datos_sanblas[\"name\"].str.contains(\"hampion\")]\n",
    "display(datos_champions)"
   ]
  },
  {
   "cell_type": "code",
   "execution_count": null,
   "id": "6d9b89df-aa99-4198-8218-66fea2d6733f",
   "metadata": {},
   "outputs": [],
   "source": []
  },
  {
   "cell_type": "markdown",
   "id": "2f84a9c4",
   "metadata": {},
   "source": [
    "## A continuacion enunciamos hipotesis:\n",
    "\n",
    "1.- Los barrios centricos son los mas anunciados ( Variables NG _count())\n",
    "\n",
    "    + Podemos decir, que los hospedajes con mas reseñas son los que más movimientos de gente tiene. \n",
    "\n",
    "2.- Es el precio tambien un factor que define la demanda de un barrio ( Variables Neigrop vs price)\n",
    "3.- Existen eventos que condicionen los precios de los hospedajes (ejemplo final champions)\n",
    "\n",
    "*Asumimos que las entradas con NaN de las variables de reviews_per_month y last_review, que coinciden en numero y con los 0 de number of reviews, significan que nunca han sido alquilados.FALSO**** Los hospedajes si estan siendo alquilados simplemente no tienen reviews, por tanto:\n",
    "\n",
    "    *Creamos una nueva categoria de \"No Reviews\"\n",
    "\n",
    "\n",
    "*Definicion de variables= Denifinmos que la variable NuRev es el \"exito de los hospedajes\" siendo entre mayor el numero de rev mejor es el hospedaje o mas visitado\n",
    "\n",
    "\n",
    "### Valores duplicados\n",
    "\n",
    "No tenemos. \n",
    "\n",
    "\n",
    "\n"
   ]
  },
  {
   "cell_type": "code",
   "execution_count": null,
   "id": "dcfc08b7",
   "metadata": {},
   "outputs": [],
   "source": [
    "#Renombrando Name"
   ]
  }
 ],
 "metadata": {
  "kernelspec": {
   "display_name": "Python 3 (ipykernel)",
   "language": "python",
   "name": "python3"
  },
  "language_info": {
   "codemirror_mode": {
    "name": "ipython",
    "version": 3
   },
   "file_extension": ".py",
   "mimetype": "text/x-python",
   "name": "python",
   "nbconvert_exporter": "python",
   "pygments_lexer": "ipython3",
   "version": "3.10.5"
  }
 },
 "nbformat": 4,
 "nbformat_minor": 5
}
